{
 "cells": [
  {
   "cell_type": "markdown",
   "metadata": {},
   "source": [
    "# 0. Interactive Cloud Version \n",
    "(Select GPU/TPU for faster training of the Tensorflow models).\n",
    "\n",
    "https://colab.research.google.com/github/MariusGuerard/emg_sign_recognition/blob/master/somos_data_analysis.ipynb"
   ]
  },
  {
   "cell_type": "code",
   "execution_count": 1,
   "metadata": {},
   "outputs": [],
   "source": [
    "import time\n",
    "a = time.time()"
   ]
  },
  {
   "cell_type": "code",
   "execution_count": 2,
   "metadata": {},
   "outputs": [],
   "source": [
    "# Set to true to run in colab\n",
    "RUN_IN_COLAB = False"
   ]
  },
  {
   "cell_type": "code",
   "execution_count": 3,
   "metadata": {},
   "outputs": [],
   "source": [
    "if RUN_IN_COLAB:\n",
    "    ### Installing non-colab library.\n",
    "    !pip install pyriemann\n",
    "    \n",
    "    ### Downloading custom libraries (not available with pip)\n",
    "    !wget https://raw.githubusercontent.com/MariusGuerard/emg_sign_recognition/master/helper_function.py \\\n",
    "        -O /tmp/helper_function.py\n",
    "    !wget https://raw.githubusercontent.com/MariusGuerard/emg_sign_recognition/master/viz.py \\\n",
    "        -O /tmp/viz.py\n",
    "\n",
    "    ### Add the tmp directory to the path to be able to import the custom libraries.\n",
    "    import sys\n",
    "    sys.path.append('/tmp/')\n",
    "\n",
    "    ### Downloading and extracting the data\n",
    "    !wget https://github.com/MariusGuerard/emg_sign_recognition/blob/master/data/data_somos.zip?raw=true\\\n",
    "        -O /tmp/data_somos.zip\n",
    "    !unzip -o /tmp/data_somos.zip -d /tmp/data_somos/\n",
    "    # Directory of the data\n",
    "    data_dir = '/tmp/data_somos/JAN20/'\n",
    "    \n",
    "else:\n",
    "    data_dir = 'data/data_somos/JAN20/'"
   ]
  },
  {
   "cell_type": "markdown",
   "metadata": {},
   "source": [
    "# Start of the notebook if ran in local"
   ]
  },
  {
   "cell_type": "code",
   "execution_count": 4,
   "metadata": {},
   "outputs": [
    {
     "name": "stderr",
     "output_type": "stream",
     "text": [
      "Using TensorFlow backend.\n"
     ]
    }
   ],
   "source": [
    "import os, pickle\n",
    "os.environ['KMP_DUPLICATE_LIB_OK']='True'\n",
    "from os.path import join\n",
    "from glob import glob\n",
    "import time\n",
    "\n",
    "import numpy as np\n",
    "import matplotlib.pyplot as plt\n",
    "import matplotlib\n",
    "matplotlib.rcParams['figure.figsize'] = (20.0, 10.0)\n",
    "import seaborn as sns\n",
    "import pandas as pd\n",
    "from sklearn.model_selection import cross_val_score, train_test_split\n",
    "from sklearn.model_selection import cross_val_score, train_test_split, cross_validate, StratifiedKFold\n",
    "from sklearn.linear_model import LogisticRegression\n",
    "from sklearn.pipeline import Pipeline\n",
    "from keras.wrappers.scikit_learn import KerasClassifier\n",
    "from sklearn.preprocessing import StandardScaler\n",
    "import tensorflow as tf\n",
    "#from tensorflow.keras import Sequential\n",
    "tf.__version__\n",
    "\n",
    "import pyriemann\n",
    "from pyriemann.tangentspace import TangentSpace\n",
    "\n",
    "import helper_function as hf\n",
    "import viz"
   ]
  },
  {
   "cell_type": "code",
   "execution_count": 5,
   "metadata": {},
   "outputs": [],
   "source": [
    "### Number of splits in the K_Fold (for intra-session only)\n",
    "N_SPLIT = 3\n",
    "\n",
    "### Number of hardware acquisitions to consider as a trial.\n",
    "# The higher the number of steps, the longer the decision time but the better the accuracy.\n",
    "# With current hardware, the sampling time is 4ms (=250Hz) for all 8 electrodes, so N_STEPS of 100 correspond to trial time (decision time) of 400ms\n",
    "N_STEPS = 100\n",
    "\n",
    "### Set to True to load processed data previously saved. \n",
    "# Set to False to re-process data with different parameters.\n",
    "LOAD_DATA = False\n",
    "\n",
    "### Set to True if you want to use to train the DNN models (which takes way more time than the other algorithms).\n",
    "TRAIN_DNN = True"
   ]
  },
  {
   "cell_type": "markdown",
   "metadata": {},
   "source": [
    "# 1. Preliminary comments"
   ]
  },
  {
   "cell_type": "code",
   "execution_count": 6,
   "metadata": {},
   "outputs": [],
   "source": [
    "# Labels that correspond to the order (0 = Nothing, 1 = Rock, ...)\n",
    "label_dic = {'Nothing': 0, 'Rock': 1, 'Paper': 2, 'Scissors': 3, 'Ok': 4}"
   ]
  },
  {
   "cell_type": "markdown",
   "metadata": {},
   "source": [
    "# 2. Loading the Data."
   ]
  },
  {
   "cell_type": "code",
   "execution_count": 10,
   "metadata": {},
   "outputs": [],
   "source": [
    "### Functions to read the data in pandas DataFrame with the filenames as values of column 'exp'.\n",
    "data_dir = 'data/JAN20/' \n",
    "\n",
    "read_somos_csv = lambda path: pd.read_csv(path, sep=',', names = ['time', 'c0', 'c1', 'c2', 'c3', 'c4', 'c5', 'c6', 'c7', 'label'], skiprows=1)\n",
    "\n",
    "def combine_pd(pattern, data_dir=data_dir):\n",
    "    df = pd.concat([read_somos_csv(x) for x in glob(data_dir + pattern + 'txt')])\n",
    "    df['exp'] = [pattern] * len(df)\n",
    "    return df"
   ]
  },
  {
   "cell_type": "code",
   "execution_count": 11,
   "metadata": {},
   "outputs": [],
   "source": [
    "patterns = ['mg*s1*', 'mg*s2*', 'rr*s1*', 'rr*s2*']"
   ]
  },
  {
   "cell_type": "code",
   "execution_count": 12,
   "metadata": {},
   "outputs": [],
   "source": [
    "data_df = pd.concat([combine_pd(pattern) for pattern in patterns])"
   ]
  },
  {
   "cell_type": "code",
   "execution_count": 13,
   "metadata": {},
   "outputs": [
    {
     "data": {
      "text/html": [
       "<div>\n",
       "<style scoped>\n",
       "    .dataframe tbody tr th:only-of-type {\n",
       "        vertical-align: middle;\n",
       "    }\n",
       "\n",
       "    .dataframe tbody tr th {\n",
       "        vertical-align: top;\n",
       "    }\n",
       "\n",
       "    .dataframe thead th {\n",
       "        text-align: right;\n",
       "    }\n",
       "</style>\n",
       "<table border=\"1\" class=\"dataframe\">\n",
       "  <thead>\n",
       "    <tr style=\"text-align: right;\">\n",
       "      <th></th>\n",
       "      <th>time</th>\n",
       "      <th>c0</th>\n",
       "      <th>c1</th>\n",
       "      <th>c2</th>\n",
       "      <th>c3</th>\n",
       "      <th>c4</th>\n",
       "      <th>c5</th>\n",
       "      <th>c6</th>\n",
       "      <th>c7</th>\n",
       "      <th>label</th>\n",
       "      <th>exp</th>\n",
       "    </tr>\n",
       "  </thead>\n",
       "  <tbody>\n",
       "    <tr>\n",
       "      <th>1241</th>\n",
       "      <td>5403</td>\n",
       "      <td>127</td>\n",
       "      <td>128</td>\n",
       "      <td>126</td>\n",
       "      <td>128</td>\n",
       "      <td>126</td>\n",
       "      <td>124</td>\n",
       "      <td>123</td>\n",
       "      <td>126</td>\n",
       "      <td>0</td>\n",
       "      <td>rr*s2*</td>\n",
       "    </tr>\n",
       "    <tr>\n",
       "      <th>5355</th>\n",
       "      <td>21814</td>\n",
       "      <td>125</td>\n",
       "      <td>129</td>\n",
       "      <td>127</td>\n",
       "      <td>127</td>\n",
       "      <td>130</td>\n",
       "      <td>128</td>\n",
       "      <td>128</td>\n",
       "      <td>128</td>\n",
       "      <td>0</td>\n",
       "      <td>mg*s1*</td>\n",
       "    </tr>\n",
       "    <tr>\n",
       "      <th>9958</th>\n",
       "      <td>40595</td>\n",
       "      <td>125</td>\n",
       "      <td>128</td>\n",
       "      <td>127</td>\n",
       "      <td>127</td>\n",
       "      <td>126</td>\n",
       "      <td>127</td>\n",
       "      <td>127</td>\n",
       "      <td>127</td>\n",
       "      <td>1</td>\n",
       "      <td>rr*s2*</td>\n",
       "    </tr>\n",
       "    <tr>\n",
       "      <th>1068</th>\n",
       "      <td>4698</td>\n",
       "      <td>127</td>\n",
       "      <td>128</td>\n",
       "      <td>127</td>\n",
       "      <td>127</td>\n",
       "      <td>125</td>\n",
       "      <td>128</td>\n",
       "      <td>127</td>\n",
       "      <td>127</td>\n",
       "      <td>0</td>\n",
       "      <td>rr*s1*</td>\n",
       "    </tr>\n",
       "    <tr>\n",
       "      <th>19764</th>\n",
       "      <td>81289</td>\n",
       "      <td>129</td>\n",
       "      <td>125</td>\n",
       "      <td>127</td>\n",
       "      <td>128</td>\n",
       "      <td>126</td>\n",
       "      <td>129</td>\n",
       "      <td>130</td>\n",
       "      <td>128</td>\n",
       "      <td>3</td>\n",
       "      <td>rr*s1*</td>\n",
       "    </tr>\n",
       "    <tr>\n",
       "      <th>9830</th>\n",
       "      <td>40584</td>\n",
       "      <td>128</td>\n",
       "      <td>126</td>\n",
       "      <td>129</td>\n",
       "      <td>127</td>\n",
       "      <td>127</td>\n",
       "      <td>128</td>\n",
       "      <td>127</td>\n",
       "      <td>127</td>\n",
       "      <td>1</td>\n",
       "      <td>rr*s1*</td>\n",
       "    </tr>\n",
       "    <tr>\n",
       "      <th>24177</th>\n",
       "      <td>99030</td>\n",
       "      <td>128</td>\n",
       "      <td>122</td>\n",
       "      <td>125</td>\n",
       "      <td>129</td>\n",
       "      <td>128</td>\n",
       "      <td>129</td>\n",
       "      <td>129</td>\n",
       "      <td>127</td>\n",
       "      <td>3</td>\n",
       "      <td>mg*s1*</td>\n",
       "    </tr>\n",
       "    <tr>\n",
       "      <th>12966</th>\n",
       "      <td>53032</td>\n",
       "      <td>134</td>\n",
       "      <td>131</td>\n",
       "      <td>121</td>\n",
       "      <td>124</td>\n",
       "      <td>126</td>\n",
       "      <td>128</td>\n",
       "      <td>128</td>\n",
       "      <td>128</td>\n",
       "      <td>2</td>\n",
       "      <td>mg*s1*</td>\n",
       "    </tr>\n",
       "    <tr>\n",
       "      <th>1495</th>\n",
       "      <td>5894</td>\n",
       "      <td>127</td>\n",
       "      <td>128</td>\n",
       "      <td>127</td>\n",
       "      <td>128</td>\n",
       "      <td>128</td>\n",
       "      <td>128</td>\n",
       "      <td>128</td>\n",
       "      <td>128</td>\n",
       "      <td>0</td>\n",
       "      <td>rr*s2*</td>\n",
       "    </tr>\n",
       "    <tr>\n",
       "      <th>22239</th>\n",
       "      <td>91214</td>\n",
       "      <td>127</td>\n",
       "      <td>121</td>\n",
       "      <td>133</td>\n",
       "      <td>133</td>\n",
       "      <td>124</td>\n",
       "      <td>126</td>\n",
       "      <td>127</td>\n",
       "      <td>129</td>\n",
       "      <td>3</td>\n",
       "      <td>rr*s1*</td>\n",
       "    </tr>\n",
       "  </tbody>\n",
       "</table>\n",
       "</div>"
      ],
      "text/plain": [
       "        time   c0   c1   c2   c3   c4   c5   c6   c7  label     exp\n",
       "1241    5403  127  128  126  128  126  124  123  126      0  rr*s2*\n",
       "5355   21814  125  129  127  127  130  128  128  128      0  mg*s1*\n",
       "9958   40595  125  128  127  127  126  127  127  127      1  rr*s2*\n",
       "1068    4698  127  128  127  127  125  128  127  127      0  rr*s1*\n",
       "19764  81289  129  125  127  128  126  129  130  128      3  rr*s1*\n",
       "9830   40584  128  126  129  127  127  128  127  127      1  rr*s1*\n",
       "24177  99030  128  122  125  129  128  129  129  127      3  mg*s1*\n",
       "12966  53032  134  131  121  124  126  128  128  128      2  mg*s1*\n",
       "1495    5894  127  128  127  128  128  128  128  128      0  rr*s2*\n",
       "22239  91214  127  121  133  133  124  126  127  129      3  rr*s1*"
      ]
     },
     "execution_count": 13,
     "metadata": {},
     "output_type": "execute_result"
    }
   ],
   "source": [
    "data_df.sample(10)"
   ]
  },
  {
   "cell_type": "code",
   "execution_count": 14,
   "metadata": {},
   "outputs": [
    {
     "data": {
      "text/html": [
       "<div>\n",
       "<style scoped>\n",
       "    .dataframe tbody tr th:only-of-type {\n",
       "        vertical-align: middle;\n",
       "    }\n",
       "\n",
       "    .dataframe tbody tr th {\n",
       "        vertical-align: top;\n",
       "    }\n",
       "\n",
       "    .dataframe thead th {\n",
       "        text-align: right;\n",
       "    }\n",
       "</style>\n",
       "<table border=\"1\" class=\"dataframe\">\n",
       "  <thead>\n",
       "    <tr style=\"text-align: right;\">\n",
       "      <th></th>\n",
       "      <th>time</th>\n",
       "      <th>c0</th>\n",
       "      <th>c1</th>\n",
       "      <th>c2</th>\n",
       "      <th>c3</th>\n",
       "      <th>c4</th>\n",
       "      <th>c5</th>\n",
       "      <th>c6</th>\n",
       "      <th>c7</th>\n",
       "      <th>label</th>\n",
       "    </tr>\n",
       "  </thead>\n",
       "  <tbody>\n",
       "    <tr>\n",
       "      <th>count</th>\n",
       "      <td>731682.000000</td>\n",
       "      <td>731682.000000</td>\n",
       "      <td>731682.000000</td>\n",
       "      <td>731682.000000</td>\n",
       "      <td>731682.000000</td>\n",
       "      <td>731682.000000</td>\n",
       "      <td>731682.000000</td>\n",
       "      <td>731682.000000</td>\n",
       "      <td>731682.000000</td>\n",
       "      <td>731682.000000</td>\n",
       "    </tr>\n",
       "    <tr>\n",
       "      <th>mean</th>\n",
       "      <td>62558.191848</td>\n",
       "      <td>127.505144</td>\n",
       "      <td>127.507004</td>\n",
       "      <td>127.506409</td>\n",
       "      <td>127.504250</td>\n",
       "      <td>127.505813</td>\n",
       "      <td>127.506537</td>\n",
       "      <td>127.505465</td>\n",
       "      <td>127.503991</td>\n",
       "      <td>2.001328</td>\n",
       "    </tr>\n",
       "    <tr>\n",
       "      <th>std</th>\n",
       "      <td>36043.299100</td>\n",
       "      <td>3.565628</td>\n",
       "      <td>4.235870</td>\n",
       "      <td>3.714308</td>\n",
       "      <td>2.794727</td>\n",
       "      <td>2.724745</td>\n",
       "      <td>2.384146</td>\n",
       "      <td>2.779323</td>\n",
       "      <td>2.851516</td>\n",
       "      <td>1.413178</td>\n",
       "    </tr>\n",
       "    <tr>\n",
       "      <th>min</th>\n",
       "      <td>4.000000</td>\n",
       "      <td>61.000000</td>\n",
       "      <td>48.000000</td>\n",
       "      <td>27.000000</td>\n",
       "      <td>53.000000</td>\n",
       "      <td>82.000000</td>\n",
       "      <td>54.000000</td>\n",
       "      <td>54.000000</td>\n",
       "      <td>44.000000</td>\n",
       "      <td>0.000000</td>\n",
       "    </tr>\n",
       "    <tr>\n",
       "      <th>25%</th>\n",
       "      <td>31345.000000</td>\n",
       "      <td>126.000000</td>\n",
       "      <td>126.000000</td>\n",
       "      <td>126.000000</td>\n",
       "      <td>126.000000</td>\n",
       "      <td>126.000000</td>\n",
       "      <td>126.000000</td>\n",
       "      <td>126.000000</td>\n",
       "      <td>126.000000</td>\n",
       "      <td>1.000000</td>\n",
       "    </tr>\n",
       "    <tr>\n",
       "      <th>50%</th>\n",
       "      <td>62552.000000</td>\n",
       "      <td>128.000000</td>\n",
       "      <td>128.000000</td>\n",
       "      <td>127.000000</td>\n",
       "      <td>127.000000</td>\n",
       "      <td>128.000000</td>\n",
       "      <td>128.000000</td>\n",
       "      <td>128.000000</td>\n",
       "      <td>128.000000</td>\n",
       "      <td>2.000000</td>\n",
       "    </tr>\n",
       "    <tr>\n",
       "      <th>75%</th>\n",
       "      <td>93800.750000</td>\n",
       "      <td>129.000000</td>\n",
       "      <td>129.000000</td>\n",
       "      <td>129.000000</td>\n",
       "      <td>129.000000</td>\n",
       "      <td>129.000000</td>\n",
       "      <td>129.000000</td>\n",
       "      <td>129.000000</td>\n",
       "      <td>129.000000</td>\n",
       "      <td>3.000000</td>\n",
       "    </tr>\n",
       "    <tr>\n",
       "      <th>max</th>\n",
       "      <td>125014.000000</td>\n",
       "      <td>190.000000</td>\n",
       "      <td>245.000000</td>\n",
       "      <td>193.000000</td>\n",
       "      <td>194.000000</td>\n",
       "      <td>217.000000</td>\n",
       "      <td>210.000000</td>\n",
       "      <td>191.000000</td>\n",
       "      <td>249.000000</td>\n",
       "      <td>4.000000</td>\n",
       "    </tr>\n",
       "  </tbody>\n",
       "</table>\n",
       "</div>"
      ],
      "text/plain": [
       "                time             c0             c1             c2  \\\n",
       "count  731682.000000  731682.000000  731682.000000  731682.000000   \n",
       "mean    62558.191848     127.505144     127.507004     127.506409   \n",
       "std     36043.299100       3.565628       4.235870       3.714308   \n",
       "min         4.000000      61.000000      48.000000      27.000000   \n",
       "25%     31345.000000     126.000000     126.000000     126.000000   \n",
       "50%     62552.000000     128.000000     128.000000     127.000000   \n",
       "75%     93800.750000     129.000000     129.000000     129.000000   \n",
       "max    125014.000000     190.000000     245.000000     193.000000   \n",
       "\n",
       "                  c3             c4             c5             c6  \\\n",
       "count  731682.000000  731682.000000  731682.000000  731682.000000   \n",
       "mean      127.504250     127.505813     127.506537     127.505465   \n",
       "std         2.794727       2.724745       2.384146       2.779323   \n",
       "min        53.000000      82.000000      54.000000      54.000000   \n",
       "25%       126.000000     126.000000     126.000000     126.000000   \n",
       "50%       127.000000     128.000000     128.000000     128.000000   \n",
       "75%       129.000000     129.000000     129.000000     129.000000   \n",
       "max       194.000000     217.000000     210.000000     191.000000   \n",
       "\n",
       "                  c7          label  \n",
       "count  731682.000000  731682.000000  \n",
       "mean      127.503991       2.001328  \n",
       "std         2.851516       1.413178  \n",
       "min        44.000000       0.000000  \n",
       "25%       126.000000       1.000000  \n",
       "50%       128.000000       2.000000  \n",
       "75%       129.000000       3.000000  \n",
       "max       249.000000       4.000000  "
      ]
     },
     "execution_count": 14,
     "metadata": {},
     "output_type": "execute_result"
    }
   ],
   "source": [
    "data_df.describe()"
   ]
  },
  {
   "cell_type": "markdown",
   "metadata": {},
   "source": [
    "# 3. Pre-processing of the data"
   ]
  },
  {
   "cell_type": "markdown",
   "metadata": {},
   "source": [
    "## 3.0 Giving same labels sign map as in Kaggle"
   ]
  },
  {
   "cell_type": "code",
   "execution_count": 15,
   "metadata": {},
   "outputs": [],
   "source": [
    "labels = data_df.label.values"
   ]
  },
  {
   "cell_type": "code",
   "execution_count": 16,
   "metadata": {},
   "outputs": [],
   "source": [
    "# Changing the resting state 0 into -1\n",
    "tmp = np.where(labels==0, -1, labels)\n",
    "# Changing the Rock 1 in Rock 0\n",
    "tmp = np.where(tmp==1, 0, tmp)\n",
    "# Changing the Scissor 3 in Scissors 1\n",
    "tmp = np.where(tmp==3, 1, tmp)\n",
    "# Changing the Ok 4 in OK 3\n",
    "labels = np.where(tmp==4, 3, tmp)"
   ]
  },
  {
   "cell_type": "code",
   "execution_count": 17,
   "metadata": {},
   "outputs": [],
   "source": [
    "data_df.label = labels"
   ]
  },
  {
   "cell_type": "markdown",
   "metadata": {},
   "source": [
    "For now let's remove the 'rest' sign (to have a better comparison with the MYO), but we can look at it later."
   ]
  },
  {
   "cell_type": "code",
   "execution_count": 18,
   "metadata": {},
   "outputs": [],
   "source": [
    "data_df = data_df[data_df.label != -1]"
   ]
  },
  {
   "cell_type": "markdown",
   "metadata": {},
   "source": [
    "## 3.1 Batching\n",
    "\n",
    "The data are being batched by time windows of size 'N_STEPS': (t0_sensor0, ..., t0_sensor8, t1_sensor0, ..., t1_sensor8, ..., tN_STEPS_sensor0, tN_STEPS_sensor8)."
   ]
  },
  {
   "cell_type": "code",
   "execution_count": 19,
   "metadata": {},
   "outputs": [],
   "source": [
    "### Tagging the start and end of the signs (that allows to not take time window that contains multiple label)\n",
    "start_sign = np.where(np.diff(data_df.label) != 0)[0]\n",
    "# We had a margin at the start and the end of the signs to get the stationary signal coresponding to these signs.\n",
    "end_sign = np.append(start_sign[1:], len(data_df)) - 1000\n",
    "start_sign += 1000"
   ]
  },
  {
   "cell_type": "markdown",
   "metadata": {},
   "source": [
    "We have 24 files with 5 signs each (including rest) so we should have 5 * 24 - 1 = 119 changes of sign, or 4 * 24 - 1 = 95 (in case with no rest)"
   ]
  },
  {
   "cell_type": "code",
   "execution_count": 20,
   "metadata": {},
   "outputs": [
    {
     "data": {
      "text/plain": [
       "95"
      ]
     },
     "execution_count": 20,
     "metadata": {},
     "output_type": "execute_result"
    }
   ],
   "source": [
    "len(start_sign)"
   ]
  },
  {
   "cell_type": "markdown",
   "metadata": {},
   "source": [
    "This step can take a bit of time (~10-60s depending on your computer and your batching parameters)"
   ]
  },
  {
   "cell_type": "code",
   "execution_count": 21,
   "metadata": {},
   "outputs": [],
   "source": [
    "emg_list = []\n",
    "label_list = []\n",
    "exp_list = []\n",
    "for j in range(len(start_sign)):\n",
    "    batchs = range(start_sign[j], end_sign[j] - N_STEPS, N_STEPS)\n",
    "    #print(batchs)\n",
    "    emg_list.append([data_df.iloc[i: i+N_STEPS, 1: -2].values.flatten() for i in batchs])\n",
    "    # Similarly to the kaggle data let's create samples of 10 time steps of 8 channel: t0_sensor0, t0_sensor1, ..., t10_sensor0, ..., t10_sensor8.\n",
    "    label_list.append([data_df.iloc[i, -2] for i in batchs])\n",
    "    # Similarly to the kaggle data let's create samples of 10 time steps of 8 channel: t0_sensor0, t0_sensor1, ..., t10_sensor0, ..., t10_sensor8.\n",
    "    exp_list.append([data_df.iloc[i, -1] for i in batchs])\n",
    "emg = np.concatenate(emg_list)\n",
    "labels = np.hstack(label_list)\n",
    "exps = np.hstack(exp_list)"
   ]
  },
  {
   "cell_type": "markdown",
   "metadata": {},
   "source": [
    "Our EMG matrix should now have the shape (~len(raw)/N_STEPS, N_ELEC * N_STEPS) "
   ]
  },
  {
   "cell_type": "code",
   "execution_count": 22,
   "metadata": {},
   "outputs": [
    {
     "data": {
      "text/plain": [
       "(3856, 800)"
      ]
     },
     "execution_count": 22,
     "metadata": {},
     "output_type": "execute_result"
    }
   ],
   "source": [
    "emg.shape"
   ]
  },
  {
   "cell_type": "markdown",
   "metadata": {},
   "source": [
    "### 3.2 Separation in 4 datasets (2 sessions for 2 users)"
   ]
  },
  {
   "cell_type": "code",
   "execution_count": 23,
   "metadata": {},
   "outputs": [
    {
     "name": "stdout",
     "output_type": "stream",
     "text": [
      "931\n",
      "978\n",
      "973\n",
      "974\n"
     ]
    }
   ],
   "source": [
    "# Save the data pre-processed in a pickle to go faster at next execution \n",
    "# (You need to set LOAD_DATA to False if some parameters relative to this data needs to be modified).\n",
    "if 'data_batched.pickle' in os.listdir() and LOAD_DATA:\n",
    "    with open('data_batched.pickle', 'rb') as handle:\n",
    "        data_per_exp = pickle.load(handle)\n",
    "else:\n",
    "    data_per_exp = {}\n",
    "    for exp_name in patterns:\n",
    "        idx_exp = np.where(exps==exp_name)[0]\n",
    "        data_per_exp[exp_name] = {'raw': np.float_(emg[idx_exp]), 'labels': labels[idx_exp]}\n",
    "        print(len(emg[idx_exp]))\n",
    "    with open('data_batched.pickle', 'wb') as handle:\n",
    "        pickle.dump(data_per_exp, handle)"
   ]
  },
  {
   "cell_type": "markdown",
   "metadata": {},
   "source": [
    "# 4. Model on each dataset separately"
   ]
  },
  {
   "cell_type": "markdown",
   "metadata": {},
   "source": [
    "In this section, we are just using each dataset separately to both fit and evaluate different models. That gives an idea of the best-case scenario (when the user tries the wrist band just after having calibrating it)"
   ]
  },
  {
   "cell_type": "code",
   "execution_count": 24,
   "metadata": {},
   "outputs": [],
   "source": [
    "# Dictionary containing all accuracy and models for the intra-session experiment.\n",
    "result_intra = {}"
   ]
  },
  {
   "cell_type": "code",
   "execution_count": 25,
   "metadata": {},
   "outputs": [],
   "source": [
    "# For the intra-session experiment, we split the dataset into N_SPLIT stratified Kfold for better test accuracy estimation.\n",
    "k_fold = StratifiedKFold(n_splits=N_SPLIT, shuffle=True, random_state=7)"
   ]
  },
  {
   "cell_type": "code",
   "execution_count": 26,
   "metadata": {},
   "outputs": [
    {
     "data": {
      "image/png": "[encoded data removed]",
      "text/plain": [
       "<Figure size 1440x720 with 1 Axes>"
      ]
     },
     "metadata": {
      "needs_background": "light"
     },
     "output_type": "display_data"
    },
    {
     "data": {
      "image/png": "[encoded data removed]",
      "text/plain": [
       "<Figure size 1440x720 with 1 Axes>"
      ]
     },
     "metadata": {
      "needs_background": "light"
     },
     "output_type": "display_data"
    },
    {
     "data": {
      "image/png": "[encoded data removed]",
      "text/plain": [
       "<Figure size 1440x720 with 1 Axes>"
      ]
     },
     "metadata": {
      "needs_background": "light"
     },
     "output_type": "display_data"
    }
   ],
   "source": [
    "### Let's plot the distribution of the labels for the train set and the validation test of each Fold of one experiment.\n",
    "X = data_per_exp['mg*s1*']['raw']\n",
    "y = data_per_exp['mg*s1*']['labels']\n",
    "for train_indices, test_indices in k_fold.split(X, y):\n",
    "    plt.figure()\n",
    "    sns.distplot(y[train_indices])\n",
    "    sns.distplot(y[test_indices])"
   ]
  },
  {
   "cell_type": "markdown",
   "metadata": {},
   "source": [
    "The plots above confirm that the 4 signs are equally represented in our 3 splits (as we used a stratified KFold)."
   ]
  },
  {
   "cell_type": "markdown",
   "metadata": {},
   "source": [
    "## 4.1 Using the Row Data"
   ]
  },
  {
   "cell_type": "markdown",
   "metadata": {},
   "source": [
    "This is if we were to use the models directly on the N_channels x N_time_steps features of a sample. Here it is very important to scale the data, as the signal sent from the FPGA has a very big biais relatively to the signal energy, and as the biais can be different for each electrodes."
   ]
  },
  {
   "cell_type": "markdown",
   "metadata": {},
   "source": [
    "### 4.1.0 Naive Model"
   ]
  },
  {
   "cell_type": "markdown",
   "metadata": {},
   "source": [
    "This random model is used to see what accuracy we would get by guessing randomly what sample corresponds to what sign. In average, we should have 25% accuracy if we have 4 signs and 20% accuracy if we have 5 signs."
   ]
  },
  {
   "cell_type": "code",
   "execution_count": 27,
   "metadata": {},
   "outputs": [],
   "source": [
    "class ChanceDetector():\n",
    "    \"\"\"Just a random number generator.\n",
    "    \"\"\"\n",
    "    def __init__(self, n_class):\n",
    "        self.n_class = 4\n",
    "\n",
    "    def fit(self, X_train, y_train):\n",
    "        return None\n",
    "    \n",
    "    def predict(self, X_test):\n",
    "        lx = len(X_test)\n",
    "        return np.random.randint(0, self.n_class, lx)"
   ]
  },
  {
   "cell_type": "code",
   "execution_count": 28,
   "metadata": {},
   "outputs": [],
   "source": [
    "### Scikit-learn pipeline combining a standard scaler and our model.\n",
    "estimators = []\n",
    "estimators.append(('standardize', StandardScaler()))\n",
    "estimators.append(('naive',  ChanceDetector(4)))\n",
    "pipeline_naive = Pipeline(estimators)"
   ]
  },
  {
   "cell_type": "code",
   "execution_count": 29,
   "metadata": {},
   "outputs": [
    {
     "name": "stdout",
     "output_type": "stream",
     "text": [
      "mg*s1* [0.2604501607717042, 0.2903225806451613, 0.27419354838709675] 0.27498876326798743\n",
      "mg*s2* [0.2147239263803681, 0.2883435582822086, 0.25153374233128833] 0.25153374233128833\n",
      "rr*s1* [0.24307692307692308, 0.2222222222222222, 0.22530864197530864] 0.2302025957581513\n",
      "rr*s2* [0.25846153846153846, 0.24, 0.2716049382716049] 0.25668882557771444\n"
     ]
    }
   ],
   "source": [
    "### Fit and Test our model on the k_fold and store the results in result_intra.\n",
    "result_intra = hf.record_results_kfold(data_per_exp, result_intra, model=pipeline_naive, kfold=k_fold, key_result='naive_raw', key_data='raw')"
   ]
  },
  {
   "cell_type": "markdown",
   "metadata": {},
   "source": [
    "As expected we have scores around 25% using the naive model on each dataset."
   ]
  },
  {
   "cell_type": "markdown",
   "metadata": {},
   "source": [
    "### 4.1.1 With Logistic Regression"
   ]
  },
  {
   "cell_type": "code",
   "execution_count": 30,
   "metadata": {},
   "outputs": [],
   "source": [
    "### Scikit-learn pipeline combining a standard scaler and our model.\n",
    "estimators = []\n",
    "estimators.append(('standardize', StandardScaler()))\n",
    "estimators.append(('lr', LogisticRegression(solver='lbfgs', multi_class='multinomial')))\n",
    "pipeline_lr = Pipeline(estimators)"
   ]
  },
  {
   "cell_type": "code",
   "execution_count": 31,
   "metadata": {},
   "outputs": [
    {
     "name": "stdout",
     "output_type": "stream",
     "text": [
      "mg*s1* [0.2508038585209003, 0.23548387096774193, 0.23548387096774193] 0.24059053348546136\n",
      "mg*s2* [0.25766871165644173, 0.25153374233128833, 0.25766871165644173] 0.2556237218813906\n",
      "rr*s1* [0.27076923076923076, 0.2222222222222222, 0.25] 0.24766381766381765\n",
      "rr*s2* [0.2553846153846154, 0.26153846153846155, 0.2716049382716049] 0.2628426717315606\n"
     ]
    }
   ],
   "source": [
    "### Fit and Test our model on the k_fold and store the results in result_intra.\n",
    "result_intra = hf.record_results_kfold(data_per_exp, result_intra, model=pipeline_lr, kfold=k_fold, key_result='lr_raw', key_data='raw')"
   ]
  },
  {
   "cell_type": "markdown",
   "metadata": {},
   "source": [
    "Barely above chance level"
   ]
  },
  {
   "cell_type": "markdown",
   "metadata": {},
   "source": [
    "### 4.1.2. With Deep Neural Net (DNN)"
   ]
  },
  {
   "cell_type": "code",
   "execution_count": 32,
   "metadata": {},
   "outputs": [],
   "source": [
    "def create_model(weights='initial_weights.hd5', n_features=800):\n",
    "    \"\"\"Function to create model, required for using KerasClassifier and wrapp a Keras model inside a \n",
    "    scikitlearn form.\n",
    "    We added a weight saving/loading to remove the randomness of the weight initialization (for better comparison).\n",
    "    \"\"\"\n",
    "    model = tf.keras.models.Sequential([\n",
    "    tf.keras.layers.Dense(34, activation='relu', input_shape=(n_features,)),\n",
    "    tf.keras.layers.Dense(17, activation='relu'),\n",
    "    tf.keras.layers.Dropout(0.2),\n",
    "    tf.keras.layers.Dense(4, activation='softmax'),\n",
    "])\n",
    "    \n",
    "    model.compile(loss = 'sparse_categorical_crossentropy', optimizer='rmsprop', metrics=['accuracy'])\n",
    "    if weights is None:\n",
    "        model.save_weights('initial_weights.hd5')\n",
    "    else:\n",
    "        model.load_weights(weights)\n",
    "    return model"
   ]
  },
  {
   "cell_type": "code",
   "execution_count": 33,
   "metadata": {},
   "outputs": [],
   "source": [
    "def create_model_variance(weights='initial_weights.hd5'):\n",
    "    return create_model(weights=weights, n_features=8)"
   ]
  },
  {
   "cell_type": "code",
   "execution_count": 34,
   "metadata": {},
   "outputs": [],
   "source": [
    "def create_model_covariance(weights='initial_weights.hd5'):\n",
    "    return create_model(weights=weights, n_features=36)"
   ]
  },
  {
   "cell_type": "code",
   "execution_count": 32,
   "metadata": {},
   "outputs": [
    {
     "name": "stderr",
     "output_type": "stream",
     "text": [
      "WARNING: Logging before flag parsing goes to stderr.\n",
      "W0604 15:56:00.367372 140555475265280 deprecation.py:506] From /home/marius/miniconda3/envs/stats/lib/python3.7/site-packages/tensorflow/python/ops/init_ops.py:1251: calling VarianceScaling.__init__ (from tensorflow.python.ops.init_ops) with dtype is deprecated and will be removed in a future version.\n",
      "Instructions for updating:\n",
      "Call initializer instance with the dtype argument instead of passing it to the constructor\n"
     ]
    }
   ],
   "source": [
    "generate_weights = create_model(weights=None)"
   ]
  },
  {
   "cell_type": "code",
   "execution_count": 35,
   "metadata": {},
   "outputs": [],
   "source": [
    "### Scikit-learn pipeline combining a standard scaler and our model.\n",
    "estimators = []\n",
    "estimators.append(('standardize', StandardScaler()))\n",
    "estimators.append(('dnn', KerasClassifier(build_fn=create_model, epochs=100, verbose=0)))\n",
    "pipeline_dnn = Pipeline(estimators)"
   ]
  },
  {
   "cell_type": "code",
   "execution_count": 36,
   "metadata": {},
   "outputs": [
    {
     "ename": "NotFoundError",
     "evalue": "Unsuccessful TensorSliceReader constructor: Failed to find any matching files for initial_weights.hd5",
     "output_type": "error",
     "traceback": [
      "\u001b[0;31m---------------------------------------------------------------------------\u001b[0m",
      "\u001b[0;31mRuntimeError\u001b[0m                              Traceback (most recent call last)",
      "\u001b[0;32m/usr/local/lib/python3.7/site-packages/tensorflow_core/python/training/py_checkpoint_reader.py\u001b[0m in \u001b[0;36mNewCheckpointReader\u001b[0;34m(filepattern)\u001b[0m\n\u001b[1;32m     94\u001b[0m   \u001b[0;32mtry\u001b[0m\u001b[0;34m:\u001b[0m\u001b[0;34m\u001b[0m\u001b[0;34m\u001b[0m\u001b[0m\n\u001b[0;32m---> 95\u001b[0;31m     \u001b[0;32mreturn\u001b[0m \u001b[0mCheckpointReader\u001b[0m\u001b[0;34m(\u001b[0m\u001b[0mcompat\u001b[0m\u001b[0;34m.\u001b[0m\u001b[0mas_bytes\u001b[0m\u001b[0;34m(\u001b[0m\u001b[0mfilepattern\u001b[0m\u001b[0;34m)\u001b[0m\u001b[0;34m)\u001b[0m\u001b[0;34m\u001b[0m\u001b[0;34m\u001b[0m\u001b[0m\n\u001b[0m\u001b[1;32m     96\u001b[0m   \u001b[0;31m# TODO(b/143319754): Remove the RuntimeError casting logic once we resolve the\u001b[0m\u001b[0;34m\u001b[0m\u001b[0;34m\u001b[0m\u001b[0;34m\u001b[0m\u001b[0m\n",
      "\u001b[0;31mRuntimeError\u001b[0m: Unsuccessful TensorSliceReader constructor: Failed to find any matching files for initial_weights.hd5",
      "\nDuring handling of the above exception, another exception occurred:\n",
      "\u001b[0;31mNotFoundError\u001b[0m                             Traceback (most recent call last)",
      "\u001b[0;32m<ipython-input-36-ac46631de3a7>\u001b[0m in \u001b[0;36m<module>\u001b[0;34m\u001b[0m\n\u001b[1;32m      2\u001b[0m \u001b[0;31m# This training can take a bit of time.\u001b[0m\u001b[0;34m\u001b[0m\u001b[0;34m\u001b[0m\u001b[0;34m\u001b[0m\u001b[0m\n\u001b[1;32m      3\u001b[0m \u001b[0;32mif\u001b[0m \u001b[0mTRAIN_DNN\u001b[0m\u001b[0;34m:\u001b[0m\u001b[0;34m\u001b[0m\u001b[0;34m\u001b[0m\u001b[0m\n\u001b[0;32m----> 4\u001b[0;31m     \u001b[0mresult_intra\u001b[0m \u001b[0;34m=\u001b[0m \u001b[0mhf\u001b[0m\u001b[0;34m.\u001b[0m\u001b[0mrecord_results_kfold\u001b[0m\u001b[0;34m(\u001b[0m\u001b[0mdata_per_exp\u001b[0m\u001b[0;34m,\u001b[0m \u001b[0mresult_intra\u001b[0m\u001b[0;34m,\u001b[0m \u001b[0mmodel\u001b[0m\u001b[0;34m=\u001b[0m\u001b[0mpipeline_dnn\u001b[0m\u001b[0;34m,\u001b[0m \u001b[0mkfold\u001b[0m\u001b[0;34m=\u001b[0m\u001b[0mk_fold\u001b[0m\u001b[0;34m,\u001b[0m \u001b[0mkey_result\u001b[0m\u001b[0;34m=\u001b[0m\u001b[0;34m'dnn_raw'\u001b[0m\u001b[0;34m,\u001b[0m \u001b[0mkey_data\u001b[0m\u001b[0;34m=\u001b[0m\u001b[0;34m'raw'\u001b[0m\u001b[0;34m)\u001b[0m\u001b[0;34m\u001b[0m\u001b[0;34m\u001b[0m\u001b[0m\n\u001b[0m",
      "\u001b[0;32m/code/emg_sign_recognition/helper_function.py\u001b[0m in \u001b[0;36mrecord_results_kfold\u001b[0;34m(dic_data, dic_result, model, kfold, key_result, key_data)\u001b[0m\n\u001b[1;32m    138\u001b[0m         \u001b[0mX\u001b[0m \u001b[0;34m=\u001b[0m \u001b[0mdata\u001b[0m\u001b[0;34m[\u001b[0m\u001b[0mkey_data\u001b[0m\u001b[0;34m]\u001b[0m\u001b[0;34m\u001b[0m\u001b[0;34m\u001b[0m\u001b[0m\n\u001b[1;32m    139\u001b[0m         \u001b[0my\u001b[0m \u001b[0;34m=\u001b[0m \u001b[0mdata\u001b[0m\u001b[0;34m[\u001b[0m\u001b[0;34m'labels'\u001b[0m\u001b[0;34m]\u001b[0m\u001b[0;34m\u001b[0m\u001b[0;34m\u001b[0m\u001b[0m\n\u001b[0;32m--> 140\u001b[0;31m         \u001b[0macc\u001b[0m \u001b[0;34m=\u001b[0m \u001b[0mevaluate_on_kfold\u001b[0m\u001b[0;34m(\u001b[0m\u001b[0mmodel\u001b[0m\u001b[0;34m,\u001b[0m \u001b[0mX\u001b[0m\u001b[0;34m,\u001b[0m \u001b[0my\u001b[0m\u001b[0;34m,\u001b[0m \u001b[0mkfold\u001b[0m\u001b[0;34m)\u001b[0m\u001b[0;34m\u001b[0m\u001b[0;34m\u001b[0m\u001b[0m\n\u001b[0m\u001b[1;32m    141\u001b[0m         \u001b[0mtime_eval\u001b[0m \u001b[0;34m=\u001b[0m \u001b[0;34m(\u001b[0m\u001b[0mtime\u001b[0m\u001b[0;34m.\u001b[0m\u001b[0mtime\u001b[0m\u001b[0;34m(\u001b[0m\u001b[0;34m)\u001b[0m \u001b[0;34m-\u001b[0m \u001b[0ma\u001b[0m\u001b[0;34m)\u001b[0m \u001b[0;34m/\u001b[0m \u001b[0mkfold\u001b[0m\u001b[0;34m.\u001b[0m\u001b[0mn_splits\u001b[0m\u001b[0;34m\u001b[0m\u001b[0;34m\u001b[0m\u001b[0m\n\u001b[1;32m    142\u001b[0m         \u001b[0mdic_result\u001b[0m\u001b[0;34m[\u001b[0m\u001b[0mkey_result\u001b[0m\u001b[0;34m]\u001b[0m\u001b[0;34m[\u001b[0m\u001b[0;34m'acc'\u001b[0m\u001b[0;34m]\u001b[0m\u001b[0;34m.\u001b[0m\u001b[0msetdefault\u001b[0m\u001b[0;34m(\u001b[0m\u001b[0mkey\u001b[0m\u001b[0;34m,\u001b[0m \u001b[0;34m[\u001b[0m\u001b[0;34m]\u001b[0m\u001b[0;34m)\u001b[0m\u001b[0;34m.\u001b[0m\u001b[0mappend\u001b[0m\u001b[0;34m(\u001b[0m\u001b[0macc\u001b[0m\u001b[0;34m)\u001b[0m\u001b[0;34m\u001b[0m\u001b[0;34m\u001b[0m\u001b[0m\n",
      "\u001b[0;32m/code/emg_sign_recognition/helper_function.py\u001b[0m in \u001b[0;36mevaluate_on_kfold\u001b[0;34m(model, X, y, kfold)\u001b[0m\n\u001b[1;32m    108\u001b[0m         \u001b[0mX_test\u001b[0m \u001b[0;34m=\u001b[0m \u001b[0mX\u001b[0m\u001b[0;34m[\u001b[0m\u001b[0mtest_indices\u001b[0m\u001b[0;34m]\u001b[0m\u001b[0;34m\u001b[0m\u001b[0;34m\u001b[0m\u001b[0m\n\u001b[1;32m    109\u001b[0m         \u001b[0my_test\u001b[0m \u001b[0;34m=\u001b[0m \u001b[0my\u001b[0m\u001b[0;34m[\u001b[0m\u001b[0mtest_indices\u001b[0m\u001b[0;34m]\u001b[0m\u001b[0;34m\u001b[0m\u001b[0;34m\u001b[0m\u001b[0m\n\u001b[0;32m--> 110\u001b[0;31m         \u001b[0mmodel\u001b[0m\u001b[0;34m.\u001b[0m\u001b[0mfit\u001b[0m\u001b[0;34m(\u001b[0m\u001b[0mX_train\u001b[0m\u001b[0;34m,\u001b[0m \u001b[0my_train\u001b[0m\u001b[0;34m)\u001b[0m\u001b[0;34m\u001b[0m\u001b[0;34m\u001b[0m\u001b[0m\n\u001b[0m\u001b[1;32m    111\u001b[0m         \u001b[0myest_test\u001b[0m \u001b[0;34m=\u001b[0m \u001b[0mmodel\u001b[0m\u001b[0;34m.\u001b[0m\u001b[0mpredict\u001b[0m\u001b[0;34m(\u001b[0m\u001b[0mX_test\u001b[0m\u001b[0;34m)\u001b[0m\u001b[0;34m\u001b[0m\u001b[0;34m\u001b[0m\u001b[0m\n\u001b[1;32m    112\u001b[0m         \u001b[0macc\u001b[0m\u001b[0;34m.\u001b[0m\u001b[0mappend\u001b[0m\u001b[0;34m(\u001b[0m\u001b[0maccuracy\u001b[0m\u001b[0;34m(\u001b[0m\u001b[0myest_test\u001b[0m\u001b[0;34m,\u001b[0m \u001b[0my_test\u001b[0m\u001b[0;34m)\u001b[0m\u001b[0;34m)\u001b[0m\u001b[0;34m\u001b[0m\u001b[0;34m\u001b[0m\u001b[0m\n",
      "\u001b[0;32m/usr/local/lib/python3.7/site-packages/sklearn/pipeline.py\u001b[0m in \u001b[0;36mfit\u001b[0;34m(self, X, y, **fit_params)\u001b[0m\n\u001b[1;32m    352\u001b[0m                                  self._log_message(len(self.steps) - 1)):\n\u001b[1;32m    353\u001b[0m             \u001b[0;32mif\u001b[0m \u001b[0mself\u001b[0m\u001b[0;34m.\u001b[0m\u001b[0m_final_estimator\u001b[0m \u001b[0;34m!=\u001b[0m \u001b[0;34m'passthrough'\u001b[0m\u001b[0;34m:\u001b[0m\u001b[0;34m\u001b[0m\u001b[0;34m\u001b[0m\u001b[0m\n\u001b[0;32m--> 354\u001b[0;31m                 \u001b[0mself\u001b[0m\u001b[0;34m.\u001b[0m\u001b[0m_final_estimator\u001b[0m\u001b[0;34m.\u001b[0m\u001b[0mfit\u001b[0m\u001b[0;34m(\u001b[0m\u001b[0mXt\u001b[0m\u001b[0;34m,\u001b[0m \u001b[0my\u001b[0m\u001b[0;34m,\u001b[0m \u001b[0;34m**\u001b[0m\u001b[0mfit_params\u001b[0m\u001b[0;34m)\u001b[0m\u001b[0;34m\u001b[0m\u001b[0;34m\u001b[0m\u001b[0m\n\u001b[0m\u001b[1;32m    355\u001b[0m         \u001b[0;32mreturn\u001b[0m \u001b[0mself\u001b[0m\u001b[0;34m\u001b[0m\u001b[0;34m\u001b[0m\u001b[0m\n\u001b[1;32m    356\u001b[0m \u001b[0;34m\u001b[0m\u001b[0m\n",
      "\u001b[0;32m/usr/local/lib/python3.7/site-packages/keras/wrappers/scikit_learn.py\u001b[0m in \u001b[0;36mfit\u001b[0;34m(self, x, y, sample_weight, **kwargs)\u001b[0m\n\u001b[1;32m    207\u001b[0m         \u001b[0;32mif\u001b[0m \u001b[0msample_weight\u001b[0m \u001b[0;32mis\u001b[0m \u001b[0;32mnot\u001b[0m \u001b[0;32mNone\u001b[0m\u001b[0;34m:\u001b[0m\u001b[0;34m\u001b[0m\u001b[0;34m\u001b[0m\u001b[0m\n\u001b[1;32m    208\u001b[0m             \u001b[0mkwargs\u001b[0m\u001b[0;34m[\u001b[0m\u001b[0;34m'sample_weight'\u001b[0m\u001b[0;34m]\u001b[0m \u001b[0;34m=\u001b[0m \u001b[0msample_weight\u001b[0m\u001b[0;34m\u001b[0m\u001b[0;34m\u001b[0m\u001b[0m\n\u001b[0;32m--> 209\u001b[0;31m         \u001b[0;32mreturn\u001b[0m \u001b[0msuper\u001b[0m\u001b[0;34m(\u001b[0m\u001b[0mKerasClassifier\u001b[0m\u001b[0;34m,\u001b[0m \u001b[0mself\u001b[0m\u001b[0;34m)\u001b[0m\u001b[0;34m.\u001b[0m\u001b[0mfit\u001b[0m\u001b[0;34m(\u001b[0m\u001b[0mx\u001b[0m\u001b[0;34m,\u001b[0m \u001b[0my\u001b[0m\u001b[0;34m,\u001b[0m \u001b[0;34m**\u001b[0m\u001b[0mkwargs\u001b[0m\u001b[0;34m)\u001b[0m\u001b[0;34m\u001b[0m\u001b[0;34m\u001b[0m\u001b[0m\n\u001b[0m\u001b[1;32m    210\u001b[0m \u001b[0;34m\u001b[0m\u001b[0m\n\u001b[1;32m    211\u001b[0m     \u001b[0;32mdef\u001b[0m \u001b[0mpredict\u001b[0m\u001b[0;34m(\u001b[0m\u001b[0mself\u001b[0m\u001b[0;34m,\u001b[0m \u001b[0mx\u001b[0m\u001b[0;34m,\u001b[0m \u001b[0;34m**\u001b[0m\u001b[0mkwargs\u001b[0m\u001b[0;34m)\u001b[0m\u001b[0;34m:\u001b[0m\u001b[0;34m\u001b[0m\u001b[0;34m\u001b[0m\u001b[0m\n",
      "\u001b[0;32m/usr/local/lib/python3.7/site-packages/keras/wrappers/scikit_learn.py\u001b[0m in \u001b[0;36mfit\u001b[0;34m(self, x, y, **kwargs)\u001b[0m\n\u001b[1;32m    140\u001b[0m                 **self.filter_sk_params(self.build_fn.__call__))\n\u001b[1;32m    141\u001b[0m         \u001b[0;32melse\u001b[0m\u001b[0;34m:\u001b[0m\u001b[0;34m\u001b[0m\u001b[0;34m\u001b[0m\u001b[0m\n\u001b[0;32m--> 142\u001b[0;31m             \u001b[0mself\u001b[0m\u001b[0;34m.\u001b[0m\u001b[0mmodel\u001b[0m \u001b[0;34m=\u001b[0m \u001b[0mself\u001b[0m\u001b[0;34m.\u001b[0m\u001b[0mbuild_fn\u001b[0m\u001b[0;34m(\u001b[0m\u001b[0;34m**\u001b[0m\u001b[0mself\u001b[0m\u001b[0;34m.\u001b[0m\u001b[0mfilter_sk_params\u001b[0m\u001b[0;34m(\u001b[0m\u001b[0mself\u001b[0m\u001b[0;34m.\u001b[0m\u001b[0mbuild_fn\u001b[0m\u001b[0;34m)\u001b[0m\u001b[0;34m)\u001b[0m\u001b[0;34m\u001b[0m\u001b[0;34m\u001b[0m\u001b[0m\n\u001b[0m\u001b[1;32m    143\u001b[0m \u001b[0;34m\u001b[0m\u001b[0m\n\u001b[1;32m    144\u001b[0m         if (losses.is_categorical_crossentropy(self.model.loss) and\n",
      "\u001b[0;32m<ipython-input-32-eca8c24465de>\u001b[0m in \u001b[0;36mcreate_model\u001b[0;34m(weights, n_features)\u001b[0m\n\u001b[1;32m     15\u001b[0m         \u001b[0mmodel\u001b[0m\u001b[0;34m.\u001b[0m\u001b[0msave_weights\u001b[0m\u001b[0;34m(\u001b[0m\u001b[0;34m'initial_weights.hd5'\u001b[0m\u001b[0;34m)\u001b[0m\u001b[0;34m\u001b[0m\u001b[0;34m\u001b[0m\u001b[0m\n\u001b[1;32m     16\u001b[0m     \u001b[0;32melse\u001b[0m\u001b[0;34m:\u001b[0m\u001b[0;34m\u001b[0m\u001b[0;34m\u001b[0m\u001b[0m\n\u001b[0;32m---> 17\u001b[0;31m         \u001b[0mmodel\u001b[0m\u001b[0;34m.\u001b[0m\u001b[0mload_weights\u001b[0m\u001b[0;34m(\u001b[0m\u001b[0mweights\u001b[0m\u001b[0;34m)\u001b[0m\u001b[0;34m\u001b[0m\u001b[0;34m\u001b[0m\u001b[0m\n\u001b[0m\u001b[1;32m     18\u001b[0m     \u001b[0;32mreturn\u001b[0m \u001b[0mmodel\u001b[0m\u001b[0;34m\u001b[0m\u001b[0;34m\u001b[0m\u001b[0m\n",
      "\u001b[0;32m/usr/local/lib/python3.7/site-packages/tensorflow_core/python/keras/engine/training.py\u001b[0m in \u001b[0;36mload_weights\u001b[0;34m(self, filepath, by_name, skip_mismatch)\u001b[0m\n\u001b[1;32m    232\u001b[0m         raise ValueError('Load weights is not yet supported with TPUStrategy '\n\u001b[1;32m    233\u001b[0m                          'with steps_per_run greater than 1.')\n\u001b[0;32m--> 234\u001b[0;31m     \u001b[0;32mreturn\u001b[0m \u001b[0msuper\u001b[0m\u001b[0;34m(\u001b[0m\u001b[0mModel\u001b[0m\u001b[0;34m,\u001b[0m \u001b[0mself\u001b[0m\u001b[0;34m)\u001b[0m\u001b[0;34m.\u001b[0m\u001b[0mload_weights\u001b[0m\u001b[0;34m(\u001b[0m\u001b[0mfilepath\u001b[0m\u001b[0;34m,\u001b[0m \u001b[0mby_name\u001b[0m\u001b[0;34m,\u001b[0m \u001b[0mskip_mismatch\u001b[0m\u001b[0;34m)\u001b[0m\u001b[0;34m\u001b[0m\u001b[0;34m\u001b[0m\u001b[0m\n\u001b[0m\u001b[1;32m    235\u001b[0m \u001b[0;34m\u001b[0m\u001b[0m\n\u001b[1;32m    236\u001b[0m   \u001b[0;34m@\u001b[0m\u001b[0mtrackable\u001b[0m\u001b[0;34m.\u001b[0m\u001b[0mno_automatic_dependency_tracking\u001b[0m\u001b[0;34m\u001b[0m\u001b[0;34m\u001b[0m\u001b[0m\n",
      "\u001b[0;32m/usr/local/lib/python3.7/site-packages/tensorflow_core/python/keras/engine/network.py\u001b[0m in \u001b[0;36mload_weights\u001b[0;34m(self, filepath, by_name, skip_mismatch)\u001b[0m\n\u001b[1;32m   1185\u001b[0m     \u001b[0;32melse\u001b[0m\u001b[0;34m:\u001b[0m\u001b[0;34m\u001b[0m\u001b[0;34m\u001b[0m\u001b[0m\n\u001b[1;32m   1186\u001b[0m       \u001b[0;32mtry\u001b[0m\u001b[0;34m:\u001b[0m\u001b[0;34m\u001b[0m\u001b[0;34m\u001b[0m\u001b[0m\n\u001b[0;32m-> 1187\u001b[0;31m         \u001b[0mpy_checkpoint_reader\u001b[0m\u001b[0;34m.\u001b[0m\u001b[0mNewCheckpointReader\u001b[0m\u001b[0;34m(\u001b[0m\u001b[0mfilepath\u001b[0m\u001b[0;34m)\u001b[0m\u001b[0;34m\u001b[0m\u001b[0;34m\u001b[0m\u001b[0m\n\u001b[0m\u001b[1;32m   1188\u001b[0m         \u001b[0msave_format\u001b[0m \u001b[0;34m=\u001b[0m \u001b[0;34m'tf'\u001b[0m\u001b[0;34m\u001b[0m\u001b[0;34m\u001b[0m\u001b[0m\n\u001b[1;32m   1189\u001b[0m       \u001b[0;32mexcept\u001b[0m \u001b[0merrors_impl\u001b[0m\u001b[0;34m.\u001b[0m\u001b[0mDataLossError\u001b[0m\u001b[0;34m:\u001b[0m\u001b[0;34m\u001b[0m\u001b[0;34m\u001b[0m\u001b[0m\n",
      "\u001b[0;32m/usr/local/lib/python3.7/site-packages/tensorflow_core/python/training/py_checkpoint_reader.py\u001b[0m in \u001b[0;36mNewCheckpointReader\u001b[0;34m(filepattern)\u001b[0m\n\u001b[1;32m     97\u001b[0m   \u001b[0;31m# issue with throwing python exceptions from C++.\u001b[0m\u001b[0;34m\u001b[0m\u001b[0;34m\u001b[0m\u001b[0;34m\u001b[0m\u001b[0m\n\u001b[1;32m     98\u001b[0m   \u001b[0;32mexcept\u001b[0m \u001b[0mRuntimeError\u001b[0m \u001b[0;32mas\u001b[0m \u001b[0me\u001b[0m\u001b[0;34m:\u001b[0m\u001b[0;34m\u001b[0m\u001b[0;34m\u001b[0m\u001b[0m\n\u001b[0;32m---> 99\u001b[0;31m     \u001b[0merror_translator\u001b[0m\u001b[0;34m(\u001b[0m\u001b[0me\u001b[0m\u001b[0;34m)\u001b[0m\u001b[0;34m\u001b[0m\u001b[0;34m\u001b[0m\u001b[0m\n\u001b[0m",
      "\u001b[0;32m/usr/local/lib/python3.7/site-packages/tensorflow_core/python/training/py_checkpoint_reader.py\u001b[0m in \u001b[0;36merror_translator\u001b[0;34m(e)\u001b[0m\n\u001b[1;32m     33\u001b[0m       \u001b[0;34m'Failed to find any '\u001b[0m\u001b[0;34m\u001b[0m\u001b[0;34m\u001b[0m\u001b[0m\n\u001b[1;32m     34\u001b[0m       'matching files for') in error_message:\n\u001b[0;32m---> 35\u001b[0;31m     \u001b[0;32mraise\u001b[0m \u001b[0merrors_impl\u001b[0m\u001b[0;34m.\u001b[0m\u001b[0mNotFoundError\u001b[0m\u001b[0;34m(\u001b[0m\u001b[0;32mNone\u001b[0m\u001b[0;34m,\u001b[0m \u001b[0;32mNone\u001b[0m\u001b[0;34m,\u001b[0m \u001b[0merror_message\u001b[0m\u001b[0;34m)\u001b[0m\u001b[0;34m\u001b[0m\u001b[0;34m\u001b[0m\u001b[0m\n\u001b[0m\u001b[1;32m     36\u001b[0m   elif 'Sliced checkpoints are not supported' in error_message or (\n\u001b[1;32m     37\u001b[0m       \u001b[0;34m'Data type '\u001b[0m\u001b[0;34m\u001b[0m\u001b[0;34m\u001b[0m\u001b[0m\n",
      "\u001b[0;31mNotFoundError\u001b[0m: Unsuccessful TensorSliceReader constructor: Failed to find any matching files for initial_weights.hd5"
     ]
    }
   ],
   "source": [
    "### Fit and Test our model on the k_fold and store the results in result_intra.\n",
    "# This training can take a bit of time.\n",
    "if TRAIN_DNN:\n",
    "    result_intra = hf.record_results_kfold(data_per_exp, result_intra, model=pipeline_dnn, kfold=k_fold, key_result='dnn_raw', key_data='raw')"
   ]
  },
  {
   "cell_type": "markdown",
   "metadata": {},
   "source": [
    "## 4.2 Using Covariances"
   ]
  },
  {
   "cell_type": "markdown",
   "metadata": {},
   "source": [
    "Just as for EEG, most of the information should be contains in the covariance matrix of each sample.\n",
    "For 8 channels and N_STEPS time steps samples, this matrix will have dimension 8x8"
   ]
  },
  {
   "cell_type": "code",
   "execution_count": 37,
   "metadata": {},
   "outputs": [
    {
     "data": {
      "text/html": [
       "<div>\n",
       "<style scoped>\n",
       "    .dataframe tbody tr th:only-of-type {\n",
       "        vertical-align: middle;\n",
       "    }\n",
       "\n",
       "    .dataframe tbody tr th {\n",
       "        vertical-align: top;\n",
       "    }\n",
       "\n",
       "    .dataframe thead th {\n",
       "        text-align: right;\n",
       "    }\n",
       "</style>\n",
       "<table border=\"1\" class=\"dataframe\">\n",
       "  <thead>\n",
       "    <tr style=\"text-align: right;\">\n",
       "      <th></th>\n",
       "      <th>time</th>\n",
       "      <th>c0</th>\n",
       "      <th>c1</th>\n",
       "      <th>c2</th>\n",
       "      <th>c3</th>\n",
       "      <th>c4</th>\n",
       "      <th>c5</th>\n",
       "      <th>c6</th>\n",
       "      <th>c7</th>\n",
       "      <th>label</th>\n",
       "      <th>exp</th>\n",
       "    </tr>\n",
       "  </thead>\n",
       "  <tbody>\n",
       "    <tr>\n",
       "      <th>13136</th>\n",
       "      <td>54042</td>\n",
       "      <td>128</td>\n",
       "      <td>129</td>\n",
       "      <td>126</td>\n",
       "      <td>133</td>\n",
       "      <td>124</td>\n",
       "      <td>126</td>\n",
       "      <td>129</td>\n",
       "      <td>127</td>\n",
       "      <td>2</td>\n",
       "      <td>mg*s1*</td>\n",
       "    </tr>\n",
       "    <tr>\n",
       "      <th>13137</th>\n",
       "      <td>54045</td>\n",
       "      <td>127</td>\n",
       "      <td>122</td>\n",
       "      <td>128</td>\n",
       "      <td>138</td>\n",
       "      <td>126</td>\n",
       "      <td>130</td>\n",
       "      <td>128</td>\n",
       "      <td>132</td>\n",
       "      <td>2</td>\n",
       "      <td>mg*s1*</td>\n",
       "    </tr>\n",
       "    <tr>\n",
       "      <th>13138</th>\n",
       "      <td>54049</td>\n",
       "      <td>128</td>\n",
       "      <td>128</td>\n",
       "      <td>128</td>\n",
       "      <td>125</td>\n",
       "      <td>130</td>\n",
       "      <td>129</td>\n",
       "      <td>130</td>\n",
       "      <td>124</td>\n",
       "      <td>2</td>\n",
       "      <td>mg*s1*</td>\n",
       "    </tr>\n",
       "    <tr>\n",
       "      <th>13139</th>\n",
       "      <td>54052</td>\n",
       "      <td>128</td>\n",
       "      <td>135</td>\n",
       "      <td>130</td>\n",
       "      <td>125</td>\n",
       "      <td>129</td>\n",
       "      <td>128</td>\n",
       "      <td>129</td>\n",
       "      <td>127</td>\n",
       "      <td>2</td>\n",
       "      <td>mg*s1*</td>\n",
       "    </tr>\n",
       "    <tr>\n",
       "      <th>13140</th>\n",
       "      <td>54055</td>\n",
       "      <td>123</td>\n",
       "      <td>132</td>\n",
       "      <td>127</td>\n",
       "      <td>130</td>\n",
       "      <td>127</td>\n",
       "      <td>129</td>\n",
       "      <td>127</td>\n",
       "      <td>131</td>\n",
       "      <td>2</td>\n",
       "      <td>mg*s1*</td>\n",
       "    </tr>\n",
       "    <tr>\n",
       "      <th>13141</th>\n",
       "      <td>54059</td>\n",
       "      <td>122</td>\n",
       "      <td>123</td>\n",
       "      <td>127</td>\n",
       "      <td>133</td>\n",
       "      <td>126</td>\n",
       "      <td>127</td>\n",
       "      <td>130</td>\n",
       "      <td>127</td>\n",
       "      <td>2</td>\n",
       "      <td>mg*s1*</td>\n",
       "    </tr>\n",
       "    <tr>\n",
       "      <th>13142</th>\n",
       "      <td>54062</td>\n",
       "      <td>129</td>\n",
       "      <td>128</td>\n",
       "      <td>126</td>\n",
       "      <td>130</td>\n",
       "      <td>128</td>\n",
       "      <td>127</td>\n",
       "      <td>126</td>\n",
       "      <td>130</td>\n",
       "      <td>2</td>\n",
       "      <td>mg*s1*</td>\n",
       "    </tr>\n",
       "    <tr>\n",
       "      <th>13143</th>\n",
       "      <td>54066</td>\n",
       "      <td>131</td>\n",
       "      <td>130</td>\n",
       "      <td>129</td>\n",
       "      <td>123</td>\n",
       "      <td>125</td>\n",
       "      <td>129</td>\n",
       "      <td>129</td>\n",
       "      <td>128</td>\n",
       "      <td>2</td>\n",
       "      <td>mg*s1*</td>\n",
       "    </tr>\n",
       "    <tr>\n",
       "      <th>13144</th>\n",
       "      <td>54070</td>\n",
       "      <td>125</td>\n",
       "      <td>144</td>\n",
       "      <td>128</td>\n",
       "      <td>136</td>\n",
       "      <td>120</td>\n",
       "      <td>126</td>\n",
       "      <td>129</td>\n",
       "      <td>122</td>\n",
       "      <td>2</td>\n",
       "      <td>mg*s1*</td>\n",
       "    </tr>\n",
       "    <tr>\n",
       "      <th>13145</th>\n",
       "      <td>54072</td>\n",
       "      <td>130</td>\n",
       "      <td>102</td>\n",
       "      <td>127</td>\n",
       "      <td>123</td>\n",
       "      <td>131</td>\n",
       "      <td>126</td>\n",
       "      <td>130</td>\n",
       "      <td>124</td>\n",
       "      <td>2</td>\n",
       "      <td>mg*s1*</td>\n",
       "    </tr>\n",
       "  </tbody>\n",
       "</table>\n",
       "</div>"
      ],
      "text/plain": [
       "        time   c0   c1   c2   c3   c4   c5   c6   c7  label     exp\n",
       "13136  54042  128  129  126  133  124  126  129  127      2  mg*s1*\n",
       "13137  54045  127  122  128  138  126  130  128  132      2  mg*s1*\n",
       "13138  54049  128  128  128  125  130  129  130  124      2  mg*s1*\n",
       "13139  54052  128  135  130  125  129  128  129  127      2  mg*s1*\n",
       "13140  54055  123  132  127  130  127  129  127  131      2  mg*s1*\n",
       "13141  54059  122  123  127  133  126  127  130  127      2  mg*s1*\n",
       "13142  54062  129  128  126  130  128  127  126  130      2  mg*s1*\n",
       "13143  54066  131  130  129  123  125  129  129  128      2  mg*s1*\n",
       "13144  54070  125  144  128  136  120  126  129  122      2  mg*s1*\n",
       "13145  54072  130  102  127  123  131  126  130  124      2  mg*s1*"
      ]
     },
     "execution_count": 37,
     "metadata": {},
     "output_type": "execute_result"
    }
   ],
   "source": [
    "i = start_sign[0]\n",
    "data_df.iloc[i: i+10]"
   ]
  },
  {
   "cell_type": "code",
   "execution_count": 38,
   "metadata": {},
   "outputs": [],
   "source": [
    "# Save the data pre-processed with covariance in a pickle to go faster at next execution \n",
    "# (You need to set LOAD_DATA to False if some parameters relative to this data needs to be modified).\n",
    "if 'cov.pickle' in os.listdir() and LOAD_DATA:\n",
    "    with open('cov.pickle', 'rb') as handle:\n",
    "        data_per_exp = pickle.load(handle)\n",
    "else:\n",
    "    for key, data in data_per_exp.items():\n",
    "        # X: your EEG data, in format Ntrials x Nchannels X Nsamples\n",
    "        emg_rows = data['raw']\n",
    "        X = np.array([x.reshape(N_STEPS, 8).transpose() for x in emg_rows])\n",
    "        # Covariance Matrix with Ledoit and Wolf Regularization (https://projecteuclid.org/euclid.aos/1342625460)\n",
    "        cov = pyriemann.estimation.Covariances(estimator='lwf').fit_transform(X)\n",
    "        # Computation of the vectorized matrix to used each elements as features (without Tangeant Space Projection).\n",
    "        covec = np.array([hf.vectorize_cov(cov_mat) for cov_mat in cov])\n",
    "        # The variance correspond to the diagonal elements of the covariance.\n",
    "        var = np.array([cov_mat.diagonal() for cov_mat in cov])\n",
    "        y = data['labels']\n",
    "        data['matrix'] = X\n",
    "        data['cov'] = cov\n",
    "        data['covec'] = covec\n",
    "        data['var'] = var\n",
    "    with open('cov.pickle', 'wb') as handle:\n",
    "        pickle.dump(data_per_exp, handle)"
   ]
  },
  {
   "cell_type": "code",
   "execution_count": 39,
   "metadata": {},
   "outputs": [
    {
     "data": {
      "text/plain": [
       "(931, 8, 100)"
      ]
     },
     "execution_count": 39,
     "metadata": {},
     "output_type": "execute_result"
    }
   ],
   "source": [
    "data_per_exp['mg*s1*']['matrix'].shape"
   ]
  },
  {
   "cell_type": "code",
   "execution_count": 40,
   "metadata": {},
   "outputs": [
    {
     "data": {
      "text/plain": [
       "(931, 8)"
      ]
     },
     "execution_count": 40,
     "metadata": {},
     "output_type": "execute_result"
    }
   ],
   "source": [
    "data_per_exp['mg*s1*']['var'].shape"
   ]
  },
  {
   "cell_type": "code",
   "execution_count": 41,
   "metadata": {},
   "outputs": [
    {
     "data": {
      "text/plain": [
       "(931, 36)"
      ]
     },
     "execution_count": 41,
     "metadata": {},
     "output_type": "execute_result"
    }
   ],
   "source": [
    "data_per_exp['mg*s1*']['covec'].shape"
   ]
  },
  {
   "cell_type": "code",
   "execution_count": 42,
   "metadata": {},
   "outputs": [
    {
     "data": {
      "text/plain": [
       "(931, 8, 8)"
      ]
     },
     "execution_count": 42,
     "metadata": {},
     "output_type": "execute_result"
    }
   ],
   "source": [
    "data_per_exp['mg*s1*']['cov'].shape"
   ]
  },
  {
   "cell_type": "markdown",
   "metadata": {},
   "source": [
    "### 4.2.1 Logistic Regression on Variance\n",
    "\n",
    "We first look only at the variance (or the energy of each electrodes'signal), that corresponds to the diagonal of the covariance."
   ]
  },
  {
   "cell_type": "code",
   "execution_count": 43,
   "metadata": {},
   "outputs": [],
   "source": [
    "### Scikit-learn pipeline combining a standard scaler and our model.\n",
    "estimators = []\n",
    "estimators.append(('standardize', StandardScaler()))\n",
    "estimators.append(('lr', LogisticRegression(solver='lbfgs', multi_class='multinomial')))\n",
    "pipeline_lr = Pipeline(estimators)"
   ]
  },
  {
   "cell_type": "code",
   "execution_count": 44,
   "metadata": {},
   "outputs": [
    {
     "name": "stdout",
     "output_type": "stream",
     "text": [
      "mg*s1* [0.9742765273311897, 0.9741935483870968, 0.9774193548387097] 0.9752964768523321\n",
      "mg*s2* [0.9846625766871165, 0.9601226993865031, 0.9662576687116564] 0.9703476482617587\n",
      "rr*s1* [0.9784615384615385, 0.9845679012345679, 0.9907407407407407] 0.9845900601456158\n",
      "rr*s2* [0.96, 0.9753846153846154, 0.9814814814814815] 0.9722886989553655\n"
     ]
    }
   ],
   "source": [
    "### Fit and Test our model on the k_fold and store the results in result_intra.\n",
    "result_intra = hf.record_results_kfold(data_per_exp, result_intra, model=pipeline_lr, kfold=k_fold, key_result='logreg_var', key_data='var')"
   ]
  },
  {
   "cell_type": "markdown",
   "metadata": {},
   "source": [
    "Way better results than everything else we tried so far! \n",
    "For this experiment with not much class, and only static signs, most of the discriminative information is contained in the variance."
   ]
  },
  {
   "cell_type": "markdown",
   "metadata": {},
   "source": [
    "### 4.2.2 DNN on Variance"
   ]
  },
  {
   "cell_type": "code",
   "execution_count": 45,
   "metadata": {},
   "outputs": [],
   "source": [
    "generate_weights = create_model_variance(weights=None)"
   ]
  },
  {
   "cell_type": "code",
   "execution_count": 46,
   "metadata": {},
   "outputs": [],
   "source": [
    "### Scikit-learn pipeline combining a standard scaler and our model.\n",
    "estimators = []\n",
    "estimators.append(('standardize', StandardScaler()))\n",
    "estimators.append(('dnn', KerasClassifier(build_fn=create_model_variance, epochs=100, verbose=0)))\n",
    "pipeline_dnn = Pipeline(estimators)"
   ]
  },
  {
   "cell_type": "code",
   "execution_count": 47,
   "metadata": {},
   "outputs": [
    {
     "name": "stdout",
     "output_type": "stream",
     "text": [
      "mg*s1* [0.9871382636655949, 0.9967741935483871, 0.9967741935483871] 0.9935622169207896\n",
      "mg*s2* [0.9969325153374233, 0.9785276073619632, 0.9846625766871165] 0.9867075664621677\n",
      "rr*s1* [0.9876923076923076, 0.9938271604938271, 0.9938271604938271] 0.9917822095599873\n",
      "rr*s2* [0.9661538461538461, 0.9846153846153847, 0.9753086419753086] 0.9753592909148465\n"
     ]
    }
   ],
   "source": [
    "### Fit and Test our model on the k_fold and store the results in result_intra.\n",
    "if TRAIN_DNN:\n",
    "    result_intra = hf.record_results_kfold(data_per_exp, result_intra, model=pipeline_dnn, kfold=k_fold, key_result='dnn_var', key_data='var')"
   ]
  },
  {
   "cell_type": "markdown",
   "metadata": {},
   "source": [
    "Let's try to add all covariances elements to see if we gain in accuracy."
   ]
  },
  {
   "cell_type": "markdown",
   "metadata": {},
   "source": [
    "### 4.2.3 Log Reg on covariance Matrix\n",
    "\n",
    "Let's now look if adding the non-diagonal elements of the covariance matrix can help to gain in accuracy."
   ]
  },
  {
   "cell_type": "code",
   "execution_count": 48,
   "metadata": {},
   "outputs": [],
   "source": [
    "### Scikit-learn pipeline combining a standard scaler and our model.\n",
    "estimators = []\n",
    "estimators.append(('standardize', StandardScaler()))\n",
    "estimators.append(('lr', LogisticRegression(solver='lbfgs', multi_class='multinomial')))\n",
    "pipeline_logreg = Pipeline(estimators)"
   ]
  },
  {
   "cell_type": "code",
   "execution_count": 49,
   "metadata": {},
   "outputs": [
    {
     "name": "stdout",
     "output_type": "stream",
     "text": [
      "mg*s1* [0.9742765273311897, 0.9838709677419355, 0.964516129032258] 0.9742212080351278\n",
      "mg*s2* [0.9693251533742331, 0.950920245398773, 0.9631901840490797] 0.9611451942740287\n",
      "rr*s1* [0.9846153846153847, 0.9814814814814815, 0.9938271604938271] 0.9866413421968977\n",
      "rr*s2* [0.9507692307692308, 0.9661538461538461, 0.9845679012345679] 0.9671636593858817\n"
     ]
    }
   ],
   "source": [
    "### Fit and Test our model on the k_fold and store the results in result_intra.\n",
    "result_intra = hf.record_results_kfold(data_per_exp, result_intra, model=pipeline_logreg, kfold=k_fold, key_result='logreg_covec', key_data='covec')"
   ]
  },
  {
   "cell_type": "markdown",
   "metadata": {},
   "source": [
    "### 4.2.4 DNN on covariance Matrix"
   ]
  },
  {
   "cell_type": "code",
   "execution_count": 50,
   "metadata": {},
   "outputs": [],
   "source": [
    "generate_weights = create_model_covariance(weights=None)"
   ]
  },
  {
   "cell_type": "code",
   "execution_count": 51,
   "metadata": {},
   "outputs": [],
   "source": [
    "### Scikit-learn pipeline combining a standard scaler and our model.\n",
    "estimators = []\n",
    "estimators.append(('standardize', StandardScaler()))\n",
    "estimators.append(('dnn', KerasClassifier(build_fn=create_model_covariance, epochs=100, verbose=0)))\n",
    "pipeline_dnn = Pipeline(estimators)"
   ]
  },
  {
   "cell_type": "code",
   "execution_count": 52,
   "metadata": {},
   "outputs": [
    {
     "name": "stdout",
     "output_type": "stream",
     "text": [
      "mg*s1* [0.9839228295819936, 0.9903225806451613, 0.9870967741935484] 0.9871140614735677\n",
      "mg*s2* [0.9815950920245399, 0.9631901840490797, 0.9570552147239264] 0.9672801635991819\n",
      "rr*s1* [0.9815384615384616, 0.9753086419753086, 0.9876543209876543] 0.9815004748338082\n",
      "rr*s2* [0.9476923076923077, 0.9476923076923077, 0.9722222222222222] 0.9558689458689459\n"
     ]
    }
   ],
   "source": [
    "### Fit and Test our model on the k_fold and store the results in result_intra.\n",
    "if TRAIN_DNN:\n",
    "    result_intra = hf.record_results_kfold(data_per_exp, result_intra, model=pipeline_dnn, kfold=k_fold, key_result='dnn_covec', key_data='covec')"
   ]
  },
  {
   "cell_type": "markdown",
   "metadata": {},
   "source": [
    "(I also ran it with unscaled data and it doesn't seem to change much here as the covariance are already scaled)"
   ]
  },
  {
   "cell_type": "markdown",
   "metadata": {},
   "source": [
    "### 4.2.5 Euclidean Minimum Distance to Mean (Eucl MDM)\n",
    "\n",
    "Now let's try to look at simpler algorithm (that might have bigger biais but potentially less variance as they have less parameters). We first look at the MDM in Euclidean geometry. For which we should be able to use covec or cov indifferently."
   ]
  },
  {
   "cell_type": "markdown",
   "metadata": {},
   "source": [
    "With Scaling."
   ]
  },
  {
   "cell_type": "code",
   "execution_count": 53,
   "metadata": {},
   "outputs": [],
   "source": [
    "### Scikit-learn pipeline combining a standard scaler and our model.\n",
    "estimators = []\n",
    "estimators.append(('standardize', StandardScaler()))\n",
    "estimators.append(('MDM', hf.MDM()))\n",
    "pipeline_MDM = Pipeline(estimators)"
   ]
  },
  {
   "cell_type": "code",
   "execution_count": 54,
   "metadata": {},
   "outputs": [
    {
     "name": "stdout",
     "output_type": "stream",
     "text": [
      "mg*s1* [0.819935691318328, 0.8032258064516129, 0.7903225806451613] 0.8044946928050342\n",
      "mg*s2* [0.8006134969325154, 0.7423312883435583, 0.8312883435582822] 0.7914110429447853\n",
      "rr*s1* [0.7538461538461538, 0.7839506172839507, 0.7561728395061729] 0.7646565368787591\n",
      "rr*s2* [0.9107692307692308, 0.8830769230769231, 0.9012345679012346] 0.8983602405824628\n"
     ]
    }
   ],
   "source": [
    "result_intra = hf.record_results_kfold(data_per_exp, result_intra, model=pipeline_MDM, kfold=k_fold, key_result='eucl_mdm_covec', key_data='covec')"
   ]
  },
  {
   "cell_type": "markdown",
   "metadata": {},
   "source": [
    "Without Scaling."
   ]
  },
  {
   "cell_type": "code",
   "execution_count": 55,
   "metadata": {},
   "outputs": [
    {
     "name": "stdout",
     "output_type": "stream",
     "text": [
      "mg*s1* [0.842443729903537, 0.864516129032258, 0.9032258064516129] 0.8700618884624692\n",
      "mg*s2* [0.8588957055214724, 0.7944785276073619, 0.8680981595092024] 0.8404907975460123\n",
      "rr*s1* [0.8276923076923077, 0.8580246913580247, 0.7932098765432098] 0.8263089585311807\n",
      "rr*s2* [0.7938461538461539, 0.8523076923076923, 0.8518518518518519] 0.8326685660018992\n"
     ]
    }
   ],
   "source": [
    "result_intra = hf.record_results_kfold(data_per_exp, result_intra, model=hf.MDM(), kfold=k_fold, key_result='eucl_mdm_covec', key_data='covec')"
   ]
  },
  {
   "cell_type": "markdown",
   "metadata": {},
   "source": [
    "### 4.2.6 Riemannian MDM \n",
    "\n",
    "The covariance matrix are SPD matrix and the distance between SPD matrix can be measured with Riemanian metrics that have nice properties.\n",
    "(See for example how it is applied to EEG signal in https://hal.archives-ouvertes.fr/hal-01570120/document)"
   ]
  },
  {
   "cell_type": "markdown",
   "metadata": {},
   "source": [
    "Without Scaling."
   ]
  },
  {
   "cell_type": "code",
   "execution_count": 56,
   "metadata": {},
   "outputs": [
    {
     "name": "stdout",
     "output_type": "stream",
     "text": [
      "mg*s1* [0.8488745980707395, 0.9387096774193548, 0.9225806451612903] 0.9033883068837949\n",
      "mg*s2* [0.9355828220858896, 0.9355828220858896, 0.9386503067484663] 0.9366053169734152\n",
      "rr*s1* [0.9384615384615385, 0.9197530864197531, 0.9320987654320988] 0.9301044634377967\n",
      "rr*s2* [0.9076923076923077, 0.9230769230769231, 0.9444444444444444] 0.9250712250712251\n"
     ]
    }
   ],
   "source": [
    "result_intra = hf.record_results_kfold(data_per_exp, result_intra, model=pyriemann.classification.MDM(), kfold=k_fold, key_result='riemann_mdm_cov', key_data='cov')"
   ]
  },
  {
   "cell_type": "markdown",
   "metadata": {},
   "source": [
    "### 4.2.7 Tangeant Space + Log Reg\n",
    "\n",
    "Another use of the Riemannian geometry is to project the covariance matrix on a tangeant space that is euclidean and on which we can apply usual machine learning algorithms. You can think of the projection as the translation of a sphere into a plan (like in the case of world maps)."
   ]
  },
  {
   "cell_type": "code",
   "execution_count": 57,
   "metadata": {},
   "outputs": [],
   "source": [
    "### Scikit-learn pipeline combining a standard scaler and our model.\n",
    "estimators = []\n",
    "estimators.append(('ts', TangentSpace()))\n",
    "estimators.append(('lr', LogisticRegression(solver='lbfgs', multi_class='multinomial')))\n",
    "pipeline_tang_lr = Pipeline(estimators)"
   ]
  },
  {
   "cell_type": "code",
   "execution_count": 58,
   "metadata": {},
   "outputs": [
    {
     "name": "stdout",
     "output_type": "stream",
     "text": [
      "mg*s1* [0.9839228295819936, 0.9903225806451613, 0.9870967741935484] 0.9871140614735677\n",
      "mg*s2* [0.99079754601227, 0.9662576687116564, 0.9754601226993865] 0.9775051124744376\n",
      "rr*s1* [0.9938461538461538, 0.9938271604938271, 0.9969135802469136] 0.9948622981956315\n",
      "rr*s2* [0.9723076923076923, 0.9723076923076923, 0.9876543209876543] 0.9774232352010129\n"
     ]
    }
   ],
   "source": [
    "result_intra = hf.record_results_kfold(data_per_exp, result_intra, model=pipeline_tang_lr, kfold=k_fold, key_result='ts_logreg_cov', key_data='cov')"
   ]
  },
  {
   "cell_type": "markdown",
   "metadata": {},
   "source": [
    "### 4.2.8 Tangeant Space + DNN"
   ]
  },
  {
   "cell_type": "code",
   "execution_count": 59,
   "metadata": {},
   "outputs": [],
   "source": [
    "# Function to create model, required for KerasClassifier\n",
    "#def create_model_covariance(weights='initial_weights.hd5'):\n",
    "#    return create_model(weights=weights, n_features=36)\n",
    "generate_weights = create_model_covariance(weights=None)"
   ]
  },
  {
   "cell_type": "code",
   "execution_count": 60,
   "metadata": {},
   "outputs": [],
   "source": [
    "estimators = []\n",
    "#estimators.append(('standardize', StandardScaler()))\n",
    "estimators.append(('ts', TangentSpace()))\n",
    "estimators.append(('dnn', KerasClassifier(build_fn=create_model_covariance, epochs=100, verbose=0)))\n",
    "pipeline_tang_dnn = Pipeline(estimators)"
   ]
  },
  {
   "cell_type": "code",
   "execution_count": 61,
   "metadata": {},
   "outputs": [
    {
     "name": "stdout",
     "output_type": "stream",
     "text": [
      "mg*s1* [0.9935691318327974, 1.0, 1.0] 0.9978563772775991\n",
      "mg*s2* [1.0, 0.9815950920245399, 0.9877300613496932] 0.9897750511247444\n",
      "rr*s1* [0.9938461538461538, 0.9876543209876543, 1.0] 0.9938334916112694\n",
      "rr*s2* [0.9753846153846154, 0.9815384615384616, 0.9969135802469136] 0.9846122190566634\n"
     ]
    }
   ],
   "source": [
    "if TRAIN_DNN:\n",
    "    result_intra = hf.record_results_kfold(data_per_exp, result_intra, model=pipeline_tang_dnn, kfold=k_fold, key_result='ts_dnn_cov', key_data='cov')"
   ]
  },
  {
   "cell_type": "markdown",
   "metadata": {},
   "source": [
    "### 4.2.9 Using power of the affine-invariant metric as hyperparameter for Log Reg"
   ]
  },
  {
   "cell_type": "code",
   "execution_count": 188,
   "metadata": {
    "scrolled": true
   },
   "outputs": [
    {
     "name": "stdout",
     "output_type": "stream",
     "text": [
      "mg*s1* [0.9839228295819936, 0.9967741935483871, 0.9935483870967742] 0.991415136742385\n",
      "mg*s2* [0.9815950920245399, 0.9601226993865031, 0.9693251533742331] 0.9703476482617587\n",
      "rr*s1* [0.9876923076923076, 0.9907407407407407, 1.0] 0.9928110161443495\n",
      "rr*s2* [0.9784615384615385, 0.9784615384615385, 0.9938271604938271] 0.9835834124723014\n",
      "mg*s1* [0.9839228295819936, 0.9967741935483871, 0.9935483870967742] 0.991415136742385\n",
      "mg*s2* [0.9815950920245399, 0.9601226993865031, 0.9723926380368099] 0.9713701431492843\n",
      "rr*s1* [0.9876923076923076, 0.9907407407407407, 1.0] 0.9928110161443495\n",
      "rr*s2* [0.9784615384615385, 0.9753846153846154, 0.9938271604938271] 0.9825577714466603\n",
      "mg*s1* [0.9839228295819936, 0.9967741935483871, 0.9935483870967742] 0.991415136742385\n",
      "mg*s2* [0.9815950920245399, 0.9601226993865031, 0.9693251533742331] 0.9703476482617587\n",
      "rr*s1* [0.9876923076923076, 0.9938271604938271, 1.0] 0.9938398227287116\n",
      "rr*s2* [0.9784615384615385, 0.9753846153846154, 0.9938271604938271] 0.9825577714466603\n",
      "mg*s1* [0.9839228295819936, 0.9967741935483871, 0.9935483870967742] 0.991415136742385\n",
      "mg*s2* [0.9785276073619632, 0.9601226993865031, 0.9693251533742331] 0.9693251533742332\n",
      "rr*s1* [0.9876923076923076, 0.9938271604938271, 1.0] 0.9938398227287116\n",
      "rr*s2* [0.9815384615384616, 0.9753846153846154, 0.9938271604938271] 0.9835834124723014\n",
      "mg*s1* [0.9839228295819936, 0.9967741935483871, 0.9935483870967742] 0.991415136742385\n",
      "mg*s2* [0.9785276073619632, 0.9601226993865031, 0.9662576687116564] 0.9683026584867075\n",
      "rr*s1* [0.9876923076923076, 0.9938271604938271, 1.0] 0.9938398227287116\n",
      "rr*s2* [0.9815384615384616, 0.9753846153846154, 0.9938271604938271] 0.9835834124723014\n",
      "mg*s1* [0.9839228295819936, 0.9935483870967742, 0.9935483870967742] 0.9903398679251807\n",
      "mg*s2* [0.9785276073619632, 0.9601226993865031, 0.9662576687116564] 0.9683026584867075\n",
      "rr*s1* [0.9876923076923076, 0.9938271604938271, 1.0] 0.9938398227287116\n",
      "rr*s2* [0.9815384615384616, 0.9753846153846154, 0.9938271604938271] 0.9835834124723014\n",
      "mg*s1* [0.9839228295819936, 0.9935483870967742, 0.9935483870967742] 0.9903398679251807\n",
      "mg*s2* [0.9815950920245399, 0.9539877300613497, 0.9662576687116564] 0.967280163599182\n",
      "rr*s1* [0.9876923076923076, 0.9969135802469136, 1.0] 0.9948686293130736\n",
      "rr*s2* [0.9815384615384616, 0.9723076923076923, 0.9938271604938271] 0.9825577714466603\n",
      "mg*s1* [0.9839228295819936, 0.9903225806451613, 0.9935483870967742] 0.9892645991079764\n",
      "mg*s2* [0.9815950920245399, 0.9539877300613497, 0.9662576687116564] 0.967280163599182\n",
      "rr*s1* [0.9846153846153847, 0.9969135802469136, 1.0] 0.9938429882874328\n",
      "rr*s2* [0.9815384615384616, 0.9723076923076923, 0.9938271604938271] 0.9825577714466603\n",
      "mg*s1* [0.9839228295819936, 0.9903225806451613, 0.9935483870967742] 0.9892645991079764\n",
      "mg*s2* [0.9846625766871165, 0.9570552147239264, 0.9662576687116564] 0.9693251533742332\n",
      "rr*s1* [0.9846153846153847, 0.9969135802469136, 1.0] 0.9938429882874328\n",
      "rr*s2* [0.9815384615384616, 0.9723076923076923, 0.9938271604938271] 0.9825577714466603\n",
      "mg*s1* [0.9839228295819936, 0.9903225806451613, 0.9935483870967742] 0.9892645991079764\n",
      "mg*s2* [0.9877300613496932, 0.9570552147239264, 0.9662576687116564] 0.9703476482617587\n",
      "rr*s1* [0.9876923076923076, 0.9969135802469136, 1.0] 0.9948686293130736\n",
      "rr*s2* [0.9815384615384616, 0.9723076923076923, 0.9938271604938271] 0.9825577714466603\n"
     ]
    }
   ],
   "source": [
    "import geom_function as gf\n",
    "\n",
    "POWERS = np.linspace(0.2, 2., 10)\n",
    "\n",
    "result_intra = gf.run_intrasession_on_powers(\n",
    "    result_intra, data_per_exp, \n",
    "    key_estimator='lr', key_result='ts_lr_cov', \n",
    "    k_fold=k_fold, powers=POWERS)  "
   ]
  },
  {
   "cell_type": "code",
   "execution_count": 199,
   "metadata": {},
   "outputs": [
    {
     "data": {
      "image/png": "[encoded data removed]",
      "text/plain": [
       "<Figure size 1152x576 with 4 Axes>"
      ]
     },
     "metadata": {
      "needs_background": "light"
     },
     "output_type": "display_data"
    }
   ],
   "source": [
    "gf.plot_intrasession_on_powers(result_intra, key_result='ts_lr_cov', powers=POWERS)"
   ]
  },
  {
   "cell_type": "markdown",
   "metadata": {},
   "source": [
    "### 4.2.10 Using power as hyperparameter for DNN"
   ]
  },
  {
   "cell_type": "code",
   "execution_count": 196,
   "metadata": {
    "scrolled": true
   },
   "outputs": [
    {
     "name": "stdout",
     "output_type": "stream",
     "text": [
      "mg*s1* [0.9903536977491961, 0.9967741935483871, 0.9967741935483871] 0.9946340282819902\n",
      "mg*s2* [0.9877300613496932, 0.9785276073619632, 0.9785276073619632] 0.9815950920245399\n",
      "rr*s1* [0.9846153846153847, 0.9876543209876543, 0.9938271604938271] 0.988698955365622\n",
      "rr*s2* [0.9661538461538461, 0.9753846153846154, 0.9938271604938271] 0.9784552073440963\n",
      "mg*s1* [0.9903536977491961, 0.9967741935483871, 0.9967741935483871] 0.9946340282819902\n",
      "mg*s2* [0.9877300613496932, 0.9785276073619632, 0.9723926380368099] 0.9795501022494887\n",
      "rr*s1* [0.9876923076923076, 0.9876543209876543, 0.9907407407407407] 0.988695789806901\n",
      "rr*s2* [0.9661538461538461, 0.9753846153846154, 0.9876543209876543] 0.976397594175372\n",
      "mg*s1* [0.9903536977491961, 1.0, 0.9967741935483871] 0.9957092970991944\n",
      "mg*s2* [0.99079754601227, 0.9754601226993865, 0.9785276073619632] 0.9815950920245399\n",
      "rr*s1* [0.9876923076923076, 0.9783950617283951, 0.9907407407407407] 0.9856093700538144\n",
      "rr*s2* [0.963076923076923, 0.9753846153846154, 0.9907407407407407] 0.976400759734093\n",
      "mg*s1* [0.9903536977491961, 1.0, 0.9967741935483871] 0.9957092970991944\n",
      "mg*s2* [0.9938650306748467, 0.9785276073619632, 0.9815950920245399] 0.9846625766871165\n",
      "rr*s1* [0.9876923076923076, 0.9845679012345679, 0.9969135802469136] 0.989724596391263\n",
      "rr*s2* [0.9661538461538461, 0.9753846153846154, 0.9938271604938271] 0.9784552073440963\n",
      "mg*s1* [0.9903536977491961, 1.0, 0.9967741935483871] 0.9957092970991944\n",
      "mg*s2* [0.99079754601227, 0.9723926380368099, 0.9815950920245399] 0.98159509202454\n",
      "rr*s1* [0.9846153846153847, 0.9845679012345679, 0.9938271604938271] 0.9876701487812599\n",
      "rr*s2* [0.9692307692307692, 0.9815384615384616, 0.9938271604938271] 0.9815321304210194\n",
      "mg*s1* [0.9903536977491961, 1.0, 0.9967741935483871] 0.9957092970991944\n",
      "mg*s2* [0.9938650306748467, 0.9754601226993865, 0.9723926380368099] 0.9805725971370144\n",
      "rr*s1* [0.9876923076923076, 0.9876543209876543, 0.9938271604938271] 0.989724596391263\n",
      "rr*s2* [0.9692307692307692, 0.9846153846153847, 0.9938271604938271] 0.9825577714466603\n",
      "mg*s1* [0.9903536977491961, 1.0, 0.9935483870967742] 0.9946340282819901\n",
      "mg*s2* [0.99079754601227, 0.9723926380368099, 0.9754601226993865] 0.9795501022494889\n",
      "rr*s1* [0.9876923076923076, 0.9876543209876543, 0.9969135802469136] 0.9907534029756251\n",
      "rr*s2* [0.9692307692307692, 0.9846153846153847, 0.9938271604938271] 0.9825577714466603\n",
      "mg*s1* [0.9903536977491961, 1.0, 1.0] 0.9967845659163986\n",
      "mg*s2* [0.99079754601227, 0.9754601226993865, 0.9723926380368099] 0.9795501022494887\n",
      "rr*s1* [0.9876923076923076, 0.9876543209876543, 0.9969135802469136] 0.9907534029756251\n",
      "rr*s2* [0.9723076923076923, 0.9784615384615385, 0.9938271604938271] 0.9815321304210194\n",
      "mg*s1* [0.9935691318327974, 1.0, 0.9967741935483871] 0.9967811084603948\n",
      "mg*s2* [0.9938650306748467, 0.9754601226993865, 0.9785276073619632] 0.9826175869120655\n",
      "rr*s1* [0.9815384615384616, 0.9907407407407407, 0.9938271604938271] 0.9887021209243431\n",
      "rr*s2* [0.9692307692307692, 0.9784615384615385, 0.9938271604938271] 0.9805064893953782\n",
      "mg*s1* [0.9903536977491961, 1.0, 1.0] 0.9967845659163986\n",
      "mg*s2* [0.9938650306748467, 0.9723926380368099, 0.9754601226993865] 0.9805725971370144\n",
      "rr*s1* [0.9815384615384616, 0.9876543209876543, 0.9969135802469136] 0.9887021209243431\n",
      "rr*s2* [0.9723076923076923, 0.9846153846153847, 0.9907407407407407] 0.9825546058879393\n"
     ]
    }
   ],
   "source": [
    "result_intra = gf.run_intrasession_on_powers(\n",
    "    result_intra, data_per_exp, \n",
    "    key_estimator='dnn', key_result='ts_dnn_cov', \n",
    "    k_fold=k_fold, powers=POWERS)  "
   ]
  },
  {
   "cell_type": "code",
   "execution_count": 200,
   "metadata": {},
   "outputs": [
    {
     "data": {
      "image/png": "[encoded data removed]",
      "text/plain": [
       "<Figure size 1152x576 with 4 Axes>"
      ]
     },
     "metadata": {
      "needs_background": "light"
     },
     "output_type": "display_data"
    }
   ],
   "source": [
    "gf.plot_intrasession_on_powers(result_intra, key_result='ts_dnn_cov', powers=POWERS)"
   ]
  },
  {
   "cell_type": "markdown",
   "metadata": {},
   "source": [
    "## 4.3 Plotting intra-sessions results"
   ]
  },
  {
   "cell_type": "code",
   "execution_count": 60,
   "metadata": {},
   "outputs": [],
   "source": [
    "acc_vec = np.array([acc_model['acc_all'] for key, acc_model in result_intra.items()]).transpose()\n",
    "model_labels = result_intra.keys()"
   ]
  },
  {
   "cell_type": "code",
   "execution_count": 61,
   "metadata": {},
   "outputs": [
    {
     "data": {
      "image/png": "[encoded data removed]",
      "text/plain": [
       "<Figure size 1440x1080 with 1 Axes>"
      ]
     },
     "metadata": {
      "needs_background": "light"
     },
     "output_type": "display_data"
    }
   ],
   "source": [
    "viz.bar_plot_scatter_comp([acc_vec], model_labels, 'intra-session', ['acc'])"
   ]
  },
  {
   "cell_type": "markdown",
   "metadata": {},
   "source": [
    "We notice that most of the information of the signal seem to be contained in the covariance matrix of the electrodes (and particularly in its diagonal: the variances)"
   ]
  },
  {
   "cell_type": "code",
   "execution_count": 62,
   "metadata": {},
   "outputs": [],
   "source": [
    "acc_var = np.array([acc_model['acc_all'] for key, acc_model in result_intra.items() if 'raw' not in key]).transpose()\n",
    "model_labels = [x for x in result_intra.keys() if 'raw' not in x]"
   ]
  },
  {
   "cell_type": "code",
   "execution_count": 63,
   "metadata": {},
   "outputs": [
    {
     "data": {
      "text/plain": [
       "(0.7, 1.1)"
      ]
     },
     "execution_count": 63,
     "metadata": {},
     "output_type": "execute_result"
    },
    {
     "data": {
      "image/png": "[encoded data removed]",
      "text/plain": [
       "<Figure size 1440x1080 with 1 Axes>"
      ]
     },
     "metadata": {
      "needs_background": "light"
     },
     "output_type": "display_data"
    }
   ],
   "source": [
    "viz.bar_plot_scatter_comp([acc_var], model_labels, 'intra-session', ['acc'])\n",
    "plt.ylim([0.7, 1.1])"
   ]
  },
  {
   "cell_type": "markdown",
   "metadata": {},
   "source": [
    "Depending on the value you chose for N_STEPS, you may or may not see a big difference between this algorithms but you should observe a this kind of trend (at least with N_STEPS = 100):\n",
    "- At least with these models training on raw data is completely inefficient (might works better with RNN, but might also probably overfit between sessions...)\n",
    "- For very simple models (MDM), Riemannian framework gives better result that the usual euclidean geometry.\n",
    "- For standard models (logreg, DNN), the accuracy is similar with slightly better results for model using tangeant space."
   ]
  },
  {
   "cell_type": "markdown",
   "metadata": {},
   "source": [
    "# 5. Model on Inter-session\n",
    "\n",
    "Here we train model on one session, and then test this model on another session, after the user removed and repositioned the armband. This is to evaluate what kind of performance we could get without having to recalibrate the device everytime the users are removing it."
   ]
  },
  {
   "cell_type": "markdown",
   "metadata": {},
   "source": [
    "## 5.1 Euclidean MDM"
   ]
  },
  {
   "cell_type": "code",
   "execution_count": 170,
   "metadata": {},
   "outputs": [],
   "source": [
    "### This dictionary will contain the results for the inter-session experiments\n",
    "result_intersess = {}"
   ]
  },
  {
   "cell_type": "markdown",
   "metadata": {},
   "source": [
    "With Scaling."
   ]
  },
  {
   "cell_type": "code",
   "execution_count": 216,
   "metadata": {},
   "outputs": [],
   "source": [
    "### Scikit-learn pipeline combining a standard scaler and our model.\n",
    "estimators = []\n",
    "estimators.append(('standardize', StandardScaler()))\n",
    "estimators.append(('MDM', hf.MDM()))\n",
    "pipeline_MDM = Pipeline(estimators)"
   ]
  },
  {
   "cell_type": "code",
   "execution_count": 217,
   "metadata": {},
   "outputs": [
    {
     "name": "stdout",
     "output_type": "stream",
     "text": [
      "mg*s1* mg*s2* 0.591002044989775\n",
      "mg*s2* mg*s1* 0.5746509129967776\n",
      "rr*s1* rr*s2* 0.5277207392197125\n",
      "rr*s2* rr*s1* 0.5950668036998972\n",
      "avg: 0.5721101252265406\n"
     ]
    }
   ],
   "source": [
    "result_intersess = hf.train_test_intersession(data_per_exp, result_intersess, pipeline_MDM, key_result='eucl_mdm', data_type='covec')"
   ]
  },
  {
   "cell_type": "markdown",
   "metadata": {},
   "source": [
    "Without Scaling."
   ]
  },
  {
   "cell_type": "code",
   "execution_count": 218,
   "metadata": {},
   "outputs": [
    {
     "name": "stdout",
     "output_type": "stream",
     "text": [
      "mg*s1* mg*s2* 0.6503067484662577\n",
      "mg*s2* mg*s1* 0.7368421052631579\n",
      "rr*s1* rr*s2* 0.5277207392197125\n",
      "rr*s2* rr*s1* 0.8047276464542652\n",
      "avg: 0.6798993098508483\n"
     ]
    }
   ],
   "source": [
    "result_intersess = hf.train_test_intersession(data_per_exp, result_intersess, hf.MDM(), key_result='eucl_mdm', data_type='covec')"
   ]
  },
  {
   "cell_type": "markdown",
   "metadata": {},
   "source": [
    "## 5.2 Riemann MDM"
   ]
  },
  {
   "cell_type": "code",
   "execution_count": 219,
   "metadata": {},
   "outputs": [
    {
     "name": "stdout",
     "output_type": "stream",
     "text": [
      "mg*s1* mg*s2* 0.6370143149284253\n",
      "mg*s2* mg*s1* 0.4446831364124597\n",
      "rr*s1* rr*s2* 0.6837782340862423\n",
      "rr*s2* rr*s1* 0.7841726618705036\n",
      "avg: 0.6374120868244078\n"
     ]
    }
   ],
   "source": [
    "result_intersess = hf.train_test_intersession(data_per_exp, result_intersess, pyriemann.classification.MDM(), key_result='riemann_mdm', data_type='cov')"
   ]
  },
  {
   "cell_type": "markdown",
   "metadata": {},
   "source": [
    "## 5.3 Log Reg on cov"
   ]
  },
  {
   "cell_type": "code",
   "execution_count": 175,
   "metadata": {},
   "outputs": [
    {
     "name": "stdout",
     "output_type": "stream",
     "text": [
      "mg*s1* mg*s2* 0.7014314928425358\n",
      "mg*s2* mg*s1* 0.43823845327604727\n"
     ]
    },
    {
     "name": "stderr",
     "output_type": "stream",
     "text": [
      "/usr/local/lib/python3.7/site-packages/sklearn/linear_model/_logistic.py:940: ConvergenceWarning: lbfgs failed to converge (status=1):\n",
      "STOP: TOTAL NO. of ITERATIONS REACHED LIMIT.\n",
      "\n",
      "Increase the number of iterations (max_iter) or scale the data as shown in:\n",
      "    https://scikit-learn.org/stable/modules/preprocessing.html\n",
      "Please also refer to the documentation for alternative solver options:\n",
      "    https://scikit-learn.org/stable/modules/linear_model.html#logistic-regression\n",
      "  extra_warning_msg=_LOGISTIC_SOLVER_CONVERGENCE_MSG)\n",
      "/usr/local/lib/python3.7/site-packages/sklearn/linear_model/_logistic.py:940: ConvergenceWarning: lbfgs failed to converge (status=1):\n",
      "STOP: TOTAL NO. of ITERATIONS REACHED LIMIT.\n",
      "\n",
      "Increase the number of iterations (max_iter) or scale the data as shown in:\n",
      "    https://scikit-learn.org/stable/modules/preprocessing.html\n",
      "Please also refer to the documentation for alternative solver options:\n",
      "    https://scikit-learn.org/stable/modules/linear_model.html#logistic-regression\n",
      "  extra_warning_msg=_LOGISTIC_SOLVER_CONVERGENCE_MSG)\n",
      "/usr/local/lib/python3.7/site-packages/sklearn/linear_model/_logistic.py:940: ConvergenceWarning: lbfgs failed to converge (status=1):\n",
      "STOP: TOTAL NO. of ITERATIONS REACHED LIMIT.\n",
      "\n",
      "Increase the number of iterations (max_iter) or scale the data as shown in:\n",
      "    https://scikit-learn.org/stable/modules/preprocessing.html\n",
      "Please also refer to the documentation for alternative solver options:\n",
      "    https://scikit-learn.org/stable/modules/linear_model.html#logistic-regression\n",
      "  extra_warning_msg=_LOGISTIC_SOLVER_CONVERGENCE_MSG)\n"
     ]
    },
    {
     "name": "stdout",
     "output_type": "stream",
     "text": [
      "rr*s1* rr*s2* 0.704312114989733\n",
      "rr*s2* rr*s1* 0.7841726618705036\n",
      "avg: 0.657038680744705\n"
     ]
    },
    {
     "name": "stderr",
     "output_type": "stream",
     "text": [
      "/usr/local/lib/python3.7/site-packages/sklearn/linear_model/_logistic.py:940: ConvergenceWarning: lbfgs failed to converge (status=1):\n",
      "STOP: TOTAL NO. of ITERATIONS REACHED LIMIT.\n",
      "\n",
      "Increase the number of iterations (max_iter) or scale the data as shown in:\n",
      "    https://scikit-learn.org/stable/modules/preprocessing.html\n",
      "Please also refer to the documentation for alternative solver options:\n",
      "    https://scikit-learn.org/stable/modules/linear_model.html#logistic-regression\n",
      "  extra_warning_msg=_LOGISTIC_SOLVER_CONVERGENCE_MSG)\n"
     ]
    }
   ],
   "source": [
    "result_intersess = hf.train_test_intersession(data_per_exp, result_intersess, LogisticRegression(solver='lbfgs', multi_class='multinomial'), key_result='logrec_covec', data_type='covec')"
   ]
  },
  {
   "cell_type": "markdown",
   "metadata": {},
   "source": [
    "## 5.4 Tangeant + Log Reg"
   ]
  },
  {
   "cell_type": "code",
   "execution_count": 176,
   "metadata": {},
   "outputs": [],
   "source": [
    "estimators = []\n",
    "estimators.append(('ts', TangentSpace()))\n",
    "estimators.append(('lr', LogisticRegression(solver='lbfgs', multi_class='multinomial')))\n",
    "pipeline_tang_lr = Pipeline(estimators)"
   ]
  },
  {
   "cell_type": "code",
   "execution_count": 177,
   "metadata": {},
   "outputs": [
    {
     "name": "stdout",
     "output_type": "stream",
     "text": [
      "mg*s1* mg*s2* 0.7167689161554193\n",
      "mg*s2* mg*s1* 0.5853920515574651\n",
      "rr*s1* rr*s2* 0.6930184804928131\n",
      "rr*s2* rr*s1* 0.9044193216855088\n",
      "avg: 0.7248996924728015\n"
     ]
    }
   ],
   "source": [
    "result_intersess = hf.train_test_intersession(data_per_exp, result_intersess, pipeline_tang_lr, key_result='ts_logrec_cov', data_type='cov')"
   ]
  },
  {
   "cell_type": "markdown",
   "metadata": {},
   "source": [
    "## 5.5 DNN on Cov"
   ]
  },
  {
   "cell_type": "code",
   "execution_count": 178,
   "metadata": {},
   "outputs": [],
   "source": [
    "# Function to create model, required for KerasClassifier\n",
    "#def create_model_covariance(weights='initial_weights.hd5'):\n",
    "#    return create_model(weights=weights, n_features=36)\n",
    "generate_weights = create_model_covariance(weights=None)"
   ]
  },
  {
   "cell_type": "code",
   "execution_count": 179,
   "metadata": {},
   "outputs": [],
   "source": [
    "estimators = []\n",
    "#estimators.append(('standardize', StandardScaler()))\n",
    "estimators.append(('ts', TangentSpace()))\n",
    "estimators.append(('dnn', KerasClassifier(build_fn=create_model_covariance, epochs=100, verbose=0)))\n",
    "pipeline_tang_dnn = Pipeline(estimators)"
   ]
  },
  {
   "cell_type": "code",
   "execution_count": 180,
   "metadata": {},
   "outputs": [
    {
     "name": "stdout",
     "output_type": "stream",
     "text": [
      "mg*s1* mg*s2* 0.6779141104294478\n",
      "mg*s2* mg*s1* 0.5263157894736842\n",
      "rr*s1* rr*s2* 0.7073921971252567\n",
      "rr*s2* rr*s1* 0.9177800616649537\n",
      "avg: 0.7073505396733356\n"
     ]
    }
   ],
   "source": [
    "if TRAIN_DNN:\n",
    "    result_intersess = hf.train_test_intersession(data_per_exp, result_intersess, pipeline_tang_dnn, key_result='ts_dnn_cov', data_type='cov')"
   ]
  },
  {
   "cell_type": "markdown",
   "metadata": {},
   "source": [
    "## 5.6 Tangeant + DNN"
   ]
  },
  {
   "cell_type": "code",
   "execution_count": 75,
   "metadata": {},
   "outputs": [],
   "source": [
    "#def create_model_covariance(weights='initial_weights.hd5'):\n",
    "#    return create_model(weights=weights, n_features=36)\n",
    "generate_weights = create_model_covariance(weights=None)"
   ]
  },
  {
   "cell_type": "code",
   "execution_count": 213,
   "metadata": {},
   "outputs": [
    {
     "name": "stdout",
     "output_type": "stream",
     "text": [
      "mg*s1* mg*s2* 0.7188139059304703\n",
      "mg*s2* mg*s1* 0.5950590762620838\n",
      "rr*s1* rr*s2* 0.8223819301848049\n",
      "rr*s2* rr*s1* 0.8211716341212744\n",
      "avg: 0.7393566366246583\n"
     ]
    }
   ],
   "source": [
    "if TRAIN_DNN:\n",
    "    result_intersess = hf.train_test_intersession(data_per_exp, result_intersess, KerasClassifier(build_fn=create_model_covariance, epochs=100, verbose=0), key_result='dnn_covec', data_type='covec')"
   ]
  },
  {
   "cell_type": "markdown",
   "metadata": {},
   "source": [
    "### 5.7 Tangent + LogReg on different metrics"
   ]
  },
  {
   "cell_type": "code",
   "execution_count": 224,
   "metadata": {
    "scrolled": true
   },
   "outputs": [
    {
     "name": "stdout",
     "output_type": "stream",
     "text": [
      "mg*s1* mg*s2* 0.7147239263803681\n",
      "mg*s2* mg*s1* 0.4940923737916219\n",
      "rr*s1* rr*s2* 0.6848049281314168\n",
      "rr*s2* rr*s1* 0.9136690647482014\n",
      "avg: 0.7018225732629021\n",
      "mg*s1* mg*s2* 0.7147239263803681\n",
      "mg*s2* mg*s1* 0.49194414607948445\n",
      "rr*s1* rr*s2* 0.6817248459958932\n",
      "rr*s2* rr*s1* 0.9146968139773896\n",
      "avg: 0.7007724331082839\n",
      "mg*s1* mg*s2* 0.7177914110429447\n",
      "mg*s2* mg*s1* 0.49194414607948445\n",
      "rr*s1* rr*s2* 0.6817248459958932\n",
      "rr*s2* rr*s1* 0.9157245632065776\n",
      "avg: 0.7017962415812251\n",
      "mg*s1* mg*s2* 0.7177914110429447\n",
      "mg*s2* mg*s1* 0.4908700322234157\n",
      "rr*s1* rr*s2* 0.6817248459958932\n",
      "rr*s2* rr*s1* 0.9146968139773896\n",
      "avg: 0.7012707758099108\n",
      "mg*s1* mg*s2* 0.7198364008179959\n",
      "mg*s2* mg*s1* 0.49194414607948445\n",
      "rr*s1* rr*s2* 0.6796714579055442\n",
      "rr*s2* rr*s1* 0.9167523124357657\n",
      "avg: 0.7020510793096975\n",
      "mg*s1* mg*s2* 0.7177914110429447\n",
      "mg*s2* mg*s1* 0.49194414607948445\n",
      "rr*s1* rr*s2* 0.6745379876796714\n",
      "rr*s2* rr*s1* 0.9126413155190134\n",
      "avg: 0.6992287150802785\n",
      "mg*s1* mg*s2* 0.7198364008179959\n",
      "mg*s2* mg*s1* 0.48872180451127817\n",
      "rr*s1* rr*s2* 0.6745379876796714\n",
      "rr*s2* rr*s1* 0.9105858170606372\n",
      "avg: 0.6984205025173956\n",
      "mg*s1* mg*s2* 0.721881390593047\n",
      "mg*s2* mg*s1* 0.4865735767991407\n",
      "rr*s1* rr*s2* 0.6704312114989733\n",
      "rr*s2* rr*s1* 0.9136690647482014\n",
      "avg: 0.6981388109098406\n",
      "mg*s1* mg*s2* 0.7239263803680982\n",
      "mg*s2* mg*s1* 0.4908700322234157\n",
      "rr*s1* rr*s2* 0.6673511293634496\n",
      "rr*s2* rr*s1* 0.9126413155190134\n",
      "avg: 0.6986972143684942\n",
      "mg*s1* mg*s2* 0.7249488752556237\n",
      "mg*s2* mg*s1* 0.48872180451127817\n",
      "rr*s1* rr*s2* 0.6591375770020534\n",
      "rr*s2* rr*s1* 0.9157245632065776\n",
      "avg: 0.6971332049938832\n"
     ]
    }
   ],
   "source": [
    "result_intersess = gf.run_intersession_on_powers(\n",
    "    result_intersess, data_per_exp, \n",
    "    key_estimator='lr', key_result='ts_lr_cov', powers=POWERS)  "
   ]
  },
  {
   "cell_type": "code",
   "execution_count": 225,
   "metadata": {},
   "outputs": [
    {
     "data": {
      "image/png": "[encoded data removed]",
      "text/plain": [
       "<Figure size 1152x576 with 4 Axes>"
      ]
     },
     "metadata": {
      "needs_background": "light"
     },
     "output_type": "display_data"
    }
   ],
   "source": [
    "gf.plot_intersession_on_powers(result_intersess, key_result='ts_lr_cov', powers=POWERS, ylim=(0.5, 1.))"
   ]
  },
  {
   "cell_type": "code",
   "execution_count": 201,
   "metadata": {
    "scrolled": true
   },
   "outputs": [
    {
     "name": "stdout",
     "output_type": "stream",
     "text": [
      "mg*s1* mg*s2* 0.7167689161554193\n",
      "mg*s2* mg*s1* 0.6165413533834586\n",
      "rr*s1* rr*s2* 0.6971252566735113\n",
      "rr*s2* rr*s1* 0.8910585817060637\n",
      "avg: 0.7303735269796132\n",
      "mg*s1* mg*s2* 0.7443762781186094\n",
      "mg*s2* mg*s1* 0.6251342642320086\n",
      "rr*s1* rr*s2* 0.6724845995893224\n",
      "rr*s2* rr*s1* 0.8365878725590956\n",
      "avg: 0.7196457536247589\n",
      "mg*s1* mg*s2* 0.7607361963190185\n",
      "mg*s2* mg*s1* 0.6337271750805585\n",
      "rr*s1* rr*s2* 0.6765913757700205\n",
      "rr*s2* rr*s1* 0.9033915724563206\n",
      "avg: 0.7436115799064795\n",
      "mg*s1* mg*s2* 0.7658486707566462\n",
      "mg*s2* mg*s1* 0.611170784103115\n",
      "rr*s1* rr*s2* 0.686858316221766\n",
      "rr*s2* rr*s1* 0.8992805755395683\n",
      "avg: 0.7407895866552738\n",
      "mg*s1* mg*s2* 0.7402862985685071\n",
      "mg*s2* mg*s1* 0.6186895810955961\n",
      "rr*s1* rr*s2* 0.6796714579055442\n",
      "rr*s2* rr*s1* 0.8982528263103803\n",
      "avg: 0.734225040970007\n",
      "mg*s1* mg*s2* 0.7392638036809815\n",
      "mg*s2* mg*s1* 0.6240601503759399\n",
      "rr*s1* rr*s2* 0.6878850102669405\n",
      "rr*s2* rr*s1* 0.8756423432682425\n",
      "avg: 0.731712826898026\n",
      "mg*s1* mg*s2* 0.7106339468302658\n",
      "mg*s2* mg*s1* 0.6154672395273899\n",
      "rr*s1* rr*s2* 0.6396303901437371\n",
      "rr*s2* rr*s1* 0.8746145940390545\n",
      "avg: 0.7100865426351118\n",
      "mg*s1* mg*s2* 0.7648261758691206\n",
      "mg*s2* mg*s1* 0.6197636949516648\n",
      "rr*s1* rr*s2* 0.675564681724846\n",
      "rr*s2* rr*s1* 0.9105858170606372\n",
      "avg: 0.7426850924015671\n",
      "mg*s1* mg*s2* 0.7351738241308794\n",
      "mg*s2* mg*s1* 0.6305048335123523\n",
      "rr*s1* rr*s2* 0.6632443531827515\n",
      "rr*s2* rr*s1* 0.895169578622816\n",
      "avg: 0.7310231473621999\n",
      "mg*s1* mg*s2* 0.7464212678936605\n",
      "mg*s2* mg*s1* 0.6283566058002148\n",
      "rr*s1* rr*s2* 0.6827515400410678\n",
      "rr*s2* rr*s1* 0.8489208633093526\n",
      "avg: 0.7266125692610739\n"
     ]
    }
   ],
   "source": [
    "result_intersess = gf.run_intersession_on_powers(\n",
    "    result_intersess, data_per_exp, \n",
    "    key_estimator='dnn', key_result='ts_dnn_cov', powers=POWERS)  "
   ]
  },
  {
   "cell_type": "code",
   "execution_count": 223,
   "metadata": {},
   "outputs": [
    {
     "data": {
      "image/png": "[encoded data removed]",
      "text/plain": [
       "<Figure size 1152x576 with 4 Axes>"
      ]
     },
     "metadata": {
      "needs_background": "light"
     },
     "output_type": "display_data"
    }
   ],
   "source": [
    "gf.plot_intersession_on_powers(result_intersess, key_result='ts_dnn_cov', powers=POWERS, ylim=(0.5, 1.))"
   ]
  },
  {
   "cell_type": "markdown",
   "metadata": {},
   "source": [
    "## All results"
   ]
  },
  {
   "cell_type": "code",
   "execution_count": 77,
   "metadata": {},
   "outputs": [],
   "source": [
    "acc_inter = np.array([list(model['acc'].values()) for key, model in result_intersess.items()]).transpose()[0]\n",
    "model_labels = [x for x in result_intersess.keys()]"
   ]
  },
  {
   "cell_type": "code",
   "execution_count": 78,
   "metadata": {},
   "outputs": [
    {
     "data": {
      "image/png": "[encoded data removed]",
      "text/plain": [
       "<Figure size 1440x1080 with 1 Axes>"
      ]
     },
     "metadata": {
      "needs_background": "light"
     },
     "output_type": "display_data"
    }
   ],
   "source": [
    "viz.bar_plot_scatter_comp([acc_inter], model_labels, 'inter-session', ['acc'])\n",
    "#plt.ylim([0.7, 1.1])"
   ]
  },
  {
   "cell_type": "code",
   "execution_count": null,
   "metadata": {},
   "outputs": [],
   "source": []
  },
  {
   "cell_type": "markdown",
   "metadata": {},
   "source": [
    "# 6. Model on Inter-subjects"
   ]
  },
  {
   "cell_type": "code",
   "execution_count": 230,
   "metadata": {},
   "outputs": [],
   "source": [
    "### This dictionary will contain the results for the inter-subjects experiments.\n",
    "result_subj = {}"
   ]
  },
  {
   "cell_type": "markdown",
   "metadata": {},
   "source": [
    "## 6.1 Euclidean MDM"
   ]
  },
  {
   "cell_type": "code",
   "execution_count": 231,
   "metadata": {},
   "outputs": [
    {
     "name": "stdout",
     "output_type": "stream",
     "text": [
      "mg*s1* rr*s1* 0.32476875642343267\n",
      "mg*s1* rr*s2* 0.3470225872689938\n",
      "mg*s2* rr*s1* 0.26618705035971224\n",
      "mg*s2* rr*s2* 0.27618069815195073\n",
      "rr*s1* mg*s1* 0.2964554242749731\n",
      "rr*s1* mg*s2* 0.49897750511247446\n",
      "rr*s2* mg*s1* 0.4317937701396348\n",
      "rr*s2* mg*s2* 0.6175869120654397\n",
      "avg: 0.38237158797457643\n"
     ]
    }
   ],
   "source": [
    "result_subj = hf.train_test_intersubjects(data_per_exp, result_subj, hf.MDM(), key_result='mdm_eucl')"
   ]
  },
  {
   "cell_type": "markdown",
   "metadata": {},
   "source": [
    "## 6.2 Riemann MDM"
   ]
  },
  {
   "cell_type": "code",
   "execution_count": 232,
   "metadata": {},
   "outputs": [
    {
     "name": "stdout",
     "output_type": "stream",
     "text": [
      "mg*s1* rr*s1* 0.2723535457348407\n",
      "mg*s1* rr*s2* 0.2679671457905544\n",
      "mg*s2* rr*s1* 0.3823227132579651\n",
      "mg*s2* rr*s2* 0.41683778234086244\n",
      "rr*s1* mg*s1* 0.2953813104189044\n",
      "rr*s1* mg*s2* 0.4233128834355828\n",
      "rr*s2* mg*s1* 0.21160042964554243\n",
      "rr*s2* mg*s2* 0.5184049079754601\n",
      "avg: 0.34852258982496404\n"
     ]
    }
   ],
   "source": [
    "result_subj = hf.train_test_intersubjects(data_per_exp, result_subj, pyriemann.classification.MDM(), key_result='mdm_riemann')"
   ]
  },
  {
   "cell_type": "markdown",
   "metadata": {},
   "source": [
    "## 6.3 Log Reg on cov"
   ]
  },
  {
   "cell_type": "code",
   "execution_count": 233,
   "metadata": {},
   "outputs": [
    {
     "name": "stdout",
     "output_type": "stream",
     "text": [
      "mg*s1* rr*s1* 0.4398766700924974\n",
      "mg*s1* rr*s2* 0.6437371663244353\n",
      "mg*s2* rr*s1* 0.3432682425488181\n",
      "mg*s2* rr*s2* 0.3131416837782341\n",
      "rr*s1* mg*s1* 0.39742212674543503\n",
      "rr*s1* mg*s2* 0.5940695296523517\n",
      "rr*s2* mg*s1* 0.46938775510204084\n",
      "rr*s2* mg*s2* 0.6738241308793456\n",
      "avg: 0.48434091314039474\n"
     ]
    },
    {
     "name": "stderr",
     "output_type": "stream",
     "text": [
      "/usr/local/lib/python3.7/site-packages/sklearn/linear_model/_logistic.py:940: ConvergenceWarning: lbfgs failed to converge (status=1):\n",
      "STOP: TOTAL NO. of ITERATIONS REACHED LIMIT.\n",
      "\n",
      "Increase the number of iterations (max_iter) or scale the data as shown in:\n",
      "    https://scikit-learn.org/stable/modules/preprocessing.html\n",
      "Please also refer to the documentation for alternative solver options:\n",
      "    https://scikit-learn.org/stable/modules/linear_model.html#logistic-regression\n",
      "  extra_warning_msg=_LOGISTIC_SOLVER_CONVERGENCE_MSG)\n",
      "/usr/local/lib/python3.7/site-packages/sklearn/linear_model/_logistic.py:940: ConvergenceWarning: lbfgs failed to converge (status=1):\n",
      "STOP: TOTAL NO. of ITERATIONS REACHED LIMIT.\n",
      "\n",
      "Increase the number of iterations (max_iter) or scale the data as shown in:\n",
      "    https://scikit-learn.org/stable/modules/preprocessing.html\n",
      "Please also refer to the documentation for alternative solver options:\n",
      "    https://scikit-learn.org/stable/modules/linear_model.html#logistic-regression\n",
      "  extra_warning_msg=_LOGISTIC_SOLVER_CONVERGENCE_MSG)\n",
      "/usr/local/lib/python3.7/site-packages/sklearn/linear_model/_logistic.py:940: ConvergenceWarning: lbfgs failed to converge (status=1):\n",
      "STOP: TOTAL NO. of ITERATIONS REACHED LIMIT.\n",
      "\n",
      "Increase the number of iterations (max_iter) or scale the data as shown in:\n",
      "    https://scikit-learn.org/stable/modules/preprocessing.html\n",
      "Please also refer to the documentation for alternative solver options:\n",
      "    https://scikit-learn.org/stable/modules/linear_model.html#logistic-regression\n",
      "  extra_warning_msg=_LOGISTIC_SOLVER_CONVERGENCE_MSG)\n",
      "/usr/local/lib/python3.7/site-packages/sklearn/linear_model/_logistic.py:940: ConvergenceWarning: lbfgs failed to converge (status=1):\n",
      "STOP: TOTAL NO. of ITERATIONS REACHED LIMIT.\n",
      "\n",
      "Increase the number of iterations (max_iter) or scale the data as shown in:\n",
      "    https://scikit-learn.org/stable/modules/preprocessing.html\n",
      "Please also refer to the documentation for alternative solver options:\n",
      "    https://scikit-learn.org/stable/modules/linear_model.html#logistic-regression\n",
      "  extra_warning_msg=_LOGISTIC_SOLVER_CONVERGENCE_MSG)\n"
     ]
    }
   ],
   "source": [
    "result_subj = hf.train_test_intersubjects(data_per_exp, result_subj, LogisticRegression(solver='lbfgs', multi_class='multinomial'), key_result='log_covec', data_type='covec')"
   ]
  },
  {
   "cell_type": "markdown",
   "metadata": {},
   "source": [
    "## 6.4 Tangeant + Log Reg"
   ]
  },
  {
   "cell_type": "code",
   "execution_count": 234,
   "metadata": {},
   "outputs": [],
   "source": [
    "estimators = []\n",
    "estimators.append(('ts', TangentSpace()))\n",
    "estimators.append(('lr', LogisticRegression(solver='lbfgs', multi_class='multinomial')))\n",
    "pipeline_tang_lr = Pipeline(estimators)"
   ]
  },
  {
   "cell_type": "code",
   "execution_count": 235,
   "metadata": {},
   "outputs": [
    {
     "name": "stdout",
     "output_type": "stream",
     "text": [
      "mg*s1* rr*s1* 0.18705035971223022\n",
      "mg*s1* rr*s2* 0.2515400410677618\n",
      "mg*s2* rr*s1* 0.24049331963001028\n",
      "mg*s2* rr*s2* 0.2515400410677618\n",
      "rr*s1* mg*s1* 0.2749731471535983\n",
      "rr*s1* mg*s2* 0.7280163599182005\n",
      "rr*s2* mg*s1* 0.4253490870032223\n",
      "rr*s2* mg*s2* 0.6789366053169734\n",
      "avg: 0.37973737010871983\n"
     ]
    }
   ],
   "source": [
    "result_subj = hf.train_test_intersubjects(data_per_exp, result_subj, pipeline_tang_lr, key_result='ts_log')"
   ]
  },
  {
   "cell_type": "markdown",
   "metadata": {},
   "source": [
    "## 6.5 DNN on Cov"
   ]
  },
  {
   "cell_type": "markdown",
   "metadata": {},
   "source": [
    "generate_weights = create_model(weights=None)"
   ]
  },
  {
   "cell_type": "code",
   "execution_count": 236,
   "metadata": {},
   "outputs": [
    {
     "name": "stdout",
     "output_type": "stream",
     "text": [
      "mg*s1* rr*s1* 0.4039054470709147\n",
      "mg*s1* rr*s2* 0.7987679671457906\n",
      "mg*s2* rr*s1* 0.381294964028777\n",
      "mg*s2* rr*s2* 0.3275154004106776\n",
      "rr*s1* mg*s1* 0.44360902255639095\n",
      "rr*s1* mg*s2* 0.6431492842535788\n",
      "rr*s2* mg*s1* 0.43823845327604727\n",
      "rr*s2* mg*s2* 0.6400817995910021\n",
      "avg: 0.5095702922916473\n"
     ]
    }
   ],
   "source": [
    "if TRAIN_DNN:\n",
    "    result_subj = hf.train_test_intersubjects(data_per_exp, result_subj, KerasClassifier(build_fn=create_model_covariance, epochs=100, verbose=0), key_result='dnn_covec', data_type='covec')"
   ]
  },
  {
   "cell_type": "markdown",
   "metadata": {},
   "source": [
    "## 6.6 Tangeant + DNN"
   ]
  },
  {
   "cell_type": "code",
   "execution_count": 237,
   "metadata": {},
   "outputs": [],
   "source": [
    "estimators = []\n",
    "#estimators.append(('standardize', StandardScaler()))\n",
    "estimators.append(('ts', TangentSpace()))\n",
    "estimators.append(('dnn', KerasClassifier(build_fn=create_model_covariance, epochs=100, verbose=0)))\n",
    "pipeline_tang_dnn = Pipeline(estimators)"
   ]
  },
  {
   "cell_type": "code",
   "execution_count": 238,
   "metadata": {},
   "outputs": [
    {
     "name": "stdout",
     "output_type": "stream",
     "text": [
      "mg*s1* rr*s1* 0.45837615621788286\n",
      "mg*s1* rr*s2* 0.4887063655030801\n",
      "mg*s2* rr*s1* 0.24152106885919836\n",
      "mg*s2* rr*s2* 0.2515400410677618\n",
      "rr*s1* mg*s1* 0.3426423200859291\n",
      "rr*s1* mg*s2* 0.7269938650306749\n",
      "rr*s2* mg*s1* 0.44253490870032225\n",
      "rr*s2* mg*s2* 0.6912065439672802\n",
      "avg: 0.4554401586790162\n"
     ]
    }
   ],
   "source": [
    "if TRAIN_DNN:\n",
    "    result_subj = hf.train_test_intersubjects(data_per_exp, result_subj, pipeline_tang_dnn, key_result='ts_dnn')"
   ]
  },
  {
   "cell_type": "markdown",
   "metadata": {},
   "source": [
    "## 6.7 Tangent with different powers"
   ]
  },
  {
   "cell_type": "code",
   "execution_count": 243,
   "metadata": {},
   "outputs": [
    {
     "data": {
      "text/plain": [
       "<module 'geom_function' from '/code/emg_sign_recognition/geom_function.py'>"
      ]
     },
     "execution_count": 243,
     "metadata": {},
     "output_type": "execute_result"
    }
   ],
   "source": [
    "importlib.reload(gf)"
   ]
  },
  {
   "cell_type": "code",
   "execution_count": 262,
   "metadata": {
    "scrolled": true
   },
   "outputs": [
    {
     "name": "stdout",
     "output_type": "stream",
     "text": [
      "mg*s1* rr*s1* 0.17266187050359713\n",
      "mg*s1* rr*s2* 0.24845995893223818\n",
      "mg*s2* rr*s1* 0.23227132579650564\n",
      "mg*s2* rr*s2* 0.25051334702258726\n",
      "rr*s1* mg*s1* 0.3200859291084855\n",
      "rr*s1* mg*s2* 0.6329243353783232\n",
      "rr*s2* mg*s1* 0.4414607948442535\n",
      "rr*s2* mg*s2* 0.6728016359918201\n",
      "avg: 0.3713973996972263\n",
      "mg*s1* rr*s1* 0.17574511819116137\n",
      "mg*s1* rr*s2* 0.24948665297741274\n",
      "mg*s2* rr*s1* 0.2312435765673176\n",
      "mg*s2* rr*s2* 0.25051334702258726\n",
      "rr*s1* mg*s1* 0.3157894736842105\n",
      "rr*s1* mg*s2* 0.6329243353783232\n",
      "rr*s2* mg*s1* 0.439312567132116\n",
      "rr*s2* mg*s2* 0.6728016359918201\n",
      "avg: 0.3709770883681186\n",
      "mg*s1* rr*s1* 0.17985611510791366\n",
      "mg*s1* rr*s2* 0.24948665297741274\n",
      "mg*s2* rr*s1* 0.2302158273381295\n",
      "mg*s2* rr*s2* 0.25051334702258726\n",
      "rr*s1* mg*s1* 0.31149301825993553\n",
      "rr*s1* mg*s2* 0.630879345603272\n",
      "rr*s2* mg*s1* 0.439312567132116\n",
      "rr*s2* mg*s2* 0.6738241308793456\n",
      "avg: 0.37069762554008906\n",
      "mg*s1* rr*s1* 0.18396711202466598\n",
      "mg*s1* rr*s2* 0.24948665297741274\n",
      "mg*s2* rr*s1* 0.2312435765673176\n",
      "mg*s2* rr*s2* 0.25051334702258726\n",
      "rr*s1* mg*s1* 0.3039742212674543\n",
      "rr*s1* mg*s2* 0.6319018404907976\n",
      "rr*s2* mg*s1* 0.44038668098818473\n",
      "rr*s2* mg*s2* 0.6758691206543967\n",
      "avg: 0.3709178189991021\n",
      "mg*s1* rr*s1* 0.18705035971223022\n",
      "mg*s1* rr*s2* 0.24948665297741274\n",
      "mg*s2* rr*s1* 0.23227132579650564\n",
      "mg*s2* rr*s2* 0.25051334702258726\n",
      "rr*s1* mg*s1* 0.2932330827067669\n",
      "rr*s1* mg*s2* 0.6298568507157464\n",
      "rr*s2* mg*s1* 0.44360902255639095\n",
      "rr*s2* mg*s2* 0.6779141104294478\n",
      "avg: 0.37049184398963597\n",
      "mg*s1* rr*s1* 0.19218910585817062\n",
      "mg*s1* rr*s2* 0.24948665297741274\n",
      "mg*s2* rr*s1* 0.23227132579650564\n",
      "mg*s2* rr*s2* 0.25051334702258726\n",
      "rr*s1* mg*s1* 0.28356605800214824\n",
      "rr*s1* mg*s2* 0.6370143149284253\n",
      "rr*s2* mg*s1* 0.44575725026852847\n",
      "rr*s2* mg*s2* 0.6789366053169734\n",
      "avg: 0.37121683252134396\n",
      "mg*s1* rr*s1* 0.20246659815005139\n",
      "mg*s1* rr*s2* 0.25051334702258726\n",
      "mg*s2* rr*s1* 0.2312435765673176\n",
      "mg*s2* rr*s2* 0.25051334702258726\n",
      "rr*s1* mg*s1* 0.2781954887218045\n",
      "rr*s1* mg*s2* 0.6411042944785276\n",
      "rr*s2* mg*s1* 0.4446831364124597\n",
      "rr*s2* mg*s2* 0.6809815950920245\n",
      "avg: 0.37246267293341995\n",
      "mg*s1* rr*s1* 0.2065775950668037\n",
      "mg*s1* rr*s2* 0.25051334702258726\n",
      "mg*s2* rr*s1* 0.23535457348406988\n",
      "mg*s2* rr*s2* 0.25051334702258726\n",
      "rr*s1* mg*s1* 0.26100966702470463\n",
      "rr*s1* mg*s2* 0.6451942740286298\n",
      "rr*s2* mg*s1* 0.44683136412459723\n",
      "rr*s2* mg*s2* 0.6860940695296524\n",
      "avg: 0.372761029662954\n",
      "mg*s1* rr*s1* 0.20966084275436794\n",
      "mg*s1* rr*s2* 0.25051334702258726\n",
      "mg*s2* rr*s1* 0.23535457348406988\n",
      "mg*s2* rr*s2* 0.24948665297741274\n",
      "rr*s1* mg*s1* 0.24919441460794844\n",
      "rr*s1* mg*s2* 0.6441717791411042\n",
      "rr*s2* mg*s1* 0.45005370569280345\n",
      "rr*s2* mg*s2* 0.6901840490797546\n",
      "avg: 0.3723274205950061\n",
      "mg*s1* rr*s1* 0.21274409044193218\n",
      "mg*s1* rr*s2* 0.25051334702258726\n",
      "mg*s2* rr*s1* 0.23535457348406988\n",
      "mg*s2* rr*s2* 0.24948665297741274\n",
      "rr*s1* mg*s1* 0.24704618689581095\n",
      "rr*s1* mg*s2* 0.6421267893660532\n",
      "rr*s2* mg*s1* 0.44683136412459723\n",
      "rr*s2* mg*s2* 0.6912065439672802\n",
      "avg: 0.37191369353496795\n"
     ]
    }
   ],
   "source": [
    "result_subj = gf.run_intersubj_on_powers(\n",
    "    result_subj, data_per_exp, \n",
    "    key_estimator='lr', key_result='ts_lr_cov', powers=POWERS)  "
   ]
  },
  {
   "cell_type": "code",
   "execution_count": 263,
   "metadata": {},
   "outputs": [
    {
     "data": {
      "image/png": "[encoded data removed]",
      "text/plain": [
       "<Figure size 288x576 with 1 Axes>"
      ]
     },
     "metadata": {
      "needs_background": "light"
     },
     "output_type": "display_data"
    }
   ],
   "source": [
    "gf.plot_intersubj_on_powers(result_subj, key_result='ts_lr_cov', powers=POWERS, ylim=(0.32, 0.52))"
   ]
  },
  {
   "cell_type": "code",
   "execution_count": 264,
   "metadata": {
    "scrolled": true
   },
   "outputs": [
    {
     "name": "stdout",
     "output_type": "stream",
     "text": [
      "mg*s1* rr*s1* 0.4265159301130524\n",
      "mg*s1* rr*s2* 0.4917864476386037\n",
      "mg*s2* rr*s1* 0.38848920863309355\n",
      "mg*s2* rr*s2* 0.27104722792607805\n",
      "rr*s1* mg*s1* 0.26852846401718583\n",
      "rr*s1* mg*s2* 0.6932515337423313\n",
      "rr*s2* mg*s1* 0.4070891514500537\n",
      "rr*s2* mg*s2* 0.6789366053169734\n",
      "avg: 0.4532055711046715\n",
      "mg*s1* rr*s1* 0.4295991778006166\n",
      "mg*s1* rr*s2* 0.49075975359342916\n",
      "mg*s2* rr*s1* 0.4316546762589928\n",
      "mg*s2* rr*s2* 0.3470225872689938\n",
      "rr*s1* mg*s1* 0.29108485499462944\n",
      "rr*s1* mg*s2* 0.6850715746421268\n",
      "rr*s2* mg*s1* 0.4113856068743287\n",
      "rr*s2* mg*s2* 0.6912065439672802\n",
      "avg: 0.47222309692504966\n",
      "mg*s1* rr*s1* 0.43782117163412126\n",
      "mg*s1* rr*s2* 0.4917864476386037\n",
      "mg*s2* rr*s1* 0.4182939362795478\n",
      "mg*s2* rr*s2* 0.2936344969199179\n",
      "rr*s1* mg*s1* 0.24060150375939848\n",
      "rr*s1* mg*s2* 0.6881390593047034\n",
      "rr*s2* mg*s1* 0.4092373791621912\n",
      "rr*s2* mg*s2* 0.7024539877300614\n",
      "avg: 0.4602459978035681\n",
      "mg*s1* rr*s1* 0.42137718396711205\n",
      "mg*s1* rr*s2* 0.4794661190965092\n",
      "mg*s2* rr*s1* 0.4316546762589928\n",
      "mg*s2* rr*s2* 0.31724845995893225\n",
      "rr*s1* mg*s1* 0.22663802363050484\n",
      "rr*s1* mg*s2* 0.6932515337423313\n",
      "rr*s2* mg*s1* 0.44683136412459723\n",
      "rr*s2* mg*s2* 0.689161554192229\n",
      "avg: 0.46320361437140106\n",
      "mg*s1* rr*s1* 0.43268242548818087\n",
      "mg*s1* rr*s2* 0.48459958932238195\n",
      "mg*s2* rr*s1* 0.43371017471736895\n",
      "mg*s2* rr*s2* 0.32340862422997946\n",
      "rr*s1* mg*s1* 0.23630504833512353\n",
      "rr*s1* mg*s2* 0.6850715746421268\n",
      "rr*s2* mg*s1* 0.4103114930182599\n",
      "rr*s2* mg*s2* 0.6983640081799591\n",
      "avg: 0.4630566172416726\n",
      "mg*s1* rr*s1* 0.4409044193216855\n",
      "mg*s1* rr*s2* 0.48459958932238195\n",
      "mg*s2* rr*s1* 0.32682425488180883\n",
      "mg*s2* rr*s2* 0.2546201232032854\n",
      "rr*s1* mg*s1* 0.200859291084855\n",
      "rr*s1* mg*s2* 0.689161554192229\n",
      "rr*s2* mg*s1* 0.3845327604726101\n",
      "rr*s2* mg*s2* 0.6922290388548057\n",
      "avg: 0.43421637891670767\n",
      "mg*s1* rr*s1* 0.43782117163412126\n",
      "mg*s1* rr*s2* 0.4938398357289528\n",
      "mg*s2* rr*s1* 0.40493319630010277\n",
      "mg*s2* rr*s2* 0.2720739219712526\n",
      "rr*s1* mg*s1* 0.2158968850698174\n",
      "rr*s1* mg*s2* 0.6901840490797546\n",
      "rr*s2* mg*s1* 0.4167561761546724\n",
      "rr*s2* mg*s2* 0.6666666666666666\n",
      "avg: 0.44977148782566756\n",
      "mg*s1* rr*s1* 0.447070914696814\n",
      "mg*s1* rr*s2* 0.486652977412731\n",
      "mg*s2* rr*s1* 0.43371017471736895\n",
      "mg*s2* rr*s2* 0.3059548254620123\n",
      "rr*s1* mg*s1* 0.19441460794844254\n",
      "rr*s1* mg*s2* 0.6809815950920245\n",
      "rr*s2* mg*s1* 0.42105263157894735\n",
      "rr*s2* mg*s2* 0.6554192229038854\n",
      "avg: 0.4531571187265282\n",
      "mg*s1* rr*s1* 0.447070914696814\n",
      "mg*s1* rr*s2* 0.4928131416837782\n",
      "mg*s2* rr*s1* 0.4450154162384378\n",
      "mg*s2* rr*s2* 0.31519507186858314\n",
      "rr*s1* mg*s1* 0.18045112781954886\n",
      "rr*s1* mg*s2* 0.6922290388548057\n",
      "rr*s2* mg*s1* 0.4221267454350161\n",
      "rr*s2* mg*s2* 0.6932515337423313\n",
      "avg: 0.4610191237924144\n",
      "mg*s1* rr*s1* 0.45426515930113054\n",
      "mg*s1* rr*s2* 0.4917864476386037\n",
      "mg*s2* rr*s1* 0.45837615621788286\n",
      "mg*s2* rr*s2* 0.3613963039014374\n",
      "rr*s1* mg*s1* 0.21160042964554243\n",
      "rr*s1* mg*s2* 0.6983640081799591\n",
      "rr*s2* mg*s1* 0.41353383458646614\n",
      "rr*s2* mg*s2* 0.6901840490797546\n",
      "avg: 0.4724382985688471\n"
     ]
    }
   ],
   "source": [
    "result_subj = gf.run_intersubj_on_powers(\n",
    "    result_subj, data_per_exp, \n",
    "    key_estimator='dnn', key_result='ts_dnn_cov', powers=POWERS)  "
   ]
  },
  {
   "cell_type": "code",
   "execution_count": 265,
   "metadata": {},
   "outputs": [
    {
     "data": {
      "image/png": "[encoded data removed]",
      "text/plain": [
       "<Figure size 288x576 with 1 Axes>"
      ]
     },
     "metadata": {
      "needs_background": "light"
     },
     "output_type": "display_data"
    }
   ],
   "source": [
    "gf.plot_intersubj_on_powers(result_subj, key_result='ts_dnn_cov', powers=POWERS, ylim=(0.32, 0.52))"
   ]
  },
  {
   "cell_type": "markdown",
   "metadata": {},
   "source": [
    "# Plotting"
   ]
  },
  {
   "cell_type": "code",
   "execution_count": 88,
   "metadata": {},
   "outputs": [],
   "source": [
    "acc_subj = np.array([model['acc'] for key, model in result_subj.items()]).transpose()\n",
    "model_labels = [x for x in result_subj.keys()]"
   ]
  },
  {
   "cell_type": "code",
   "execution_count": 89,
   "metadata": {},
   "outputs": [
    {
     "data": {
      "image/png": "[encoded data removed]",
      "text/plain": [
       "<Figure size 1440x1080 with 1 Axes>"
      ]
     },
     "metadata": {
      "needs_background": "light"
     },
     "output_type": "display_data"
    }
   ],
   "source": [
    "viz.bar_plot_scatter_comp([acc_subj], model_labels, 'inter-subj', ['acc'])"
   ]
  },
  {
   "cell_type": "code",
   "execution_count": 90,
   "metadata": {},
   "outputs": [
    {
     "name": "stdout",
     "output_type": "stream",
     "text": [
      "640.8950803279877\n"
     ]
    }
   ],
   "source": [
    "b = time.time()\n",
    "print(b - a)"
   ]
  }
 ],
 "metadata": {
  "kernelspec": {
   "display_name": "Python 3",
   "language": "python",
   "name": "python3"
  },
  "language_info": {
   "codemirror_mode": {
    "name": "ipython",
    "version": 3
   },
   "file_extension": ".py",
   "mimetype": "text/x-python",
   "name": "python",
   "nbconvert_exporter": "python",
   "pygments_lexer": "ipython3",
   "version": "3.7.7"
  }
 },
 "nbformat": 4,
 "nbformat_minor": 4
}
